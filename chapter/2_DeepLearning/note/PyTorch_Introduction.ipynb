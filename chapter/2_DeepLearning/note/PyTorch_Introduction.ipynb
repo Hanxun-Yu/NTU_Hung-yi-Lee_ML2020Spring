{
 "cells": [
  {
   "cell_type": "markdown",
   "metadata": {
    "id": "Xi_QP1bmMThC"
   },
   "source": [
    "Today, we will be intoducing PyTorch, \"an open source deep learning platform that provides a seamless path from research prototyping to production deployment\".\n",
    "今天，我们将介绍PyTorch，“一个开源深度学习平台，它提供了一种无缝方式可将研究原型转化到产品部署”\n",
    "\n",
    "Goal takeaways (要点): \n",
    "- Automatic differentiation is a powerful tool\n",
    "- PyTorch implements common functions used in deep learning\n",
    "- Data Processing with PyTorch DataSet\n",
    "- Mixed Presision Training in PyTorch"
   ]
  },
  {
   "cell_type": "code",
   "execution_count": 116,
   "metadata": {
    "id": "RQIPkkKdMThD"
   },
   "outputs": [],
   "source": [
    "import torch\n",
    "import torch.nn as nn\n",
    "import matplotlib.pyplot as plt\n",
    "import numpy as np\n",
    "\n",
    "torch.manual_seed(446)\n",
    "np.random.seed(446)"
   ]
  },
  {
   "cell_type": "markdown",
   "metadata": {
    "id": "fCQTBsnWMThH"
   },
   "source": [
    "## Tensors and relation to numpy\n",
    "\n",
    "By this point, we have worked with numpy quite a bit. PyTorch's basic building block, the `tensor` is similar to numpy's `ndarray`"
   ]
  },
  {
   "cell_type": "code",
   "execution_count": 117,
   "metadata": {
    "colab": {
     "base_uri": "https://localhost:8080/",
     "height": 260
    },
    "id": "IXnFLFr1MThI",
    "outputId": "9eb2c156-0c35-4e11-d388-f3c20edc5e2c"
   },
   "outputs": [
    {
     "name": "stdout",
     "output_type": "stream",
     "text": [
      "x_numpy, x_torch\n",
      "[0.1 0.2 0.3] tensor([0.1000, 0.2000, 0.3000])\n",
      "\n",
      "to and from numpy and pytorch\n",
      "tensor([0.1000, 0.2000, 0.3000], dtype=torch.float64) [0.1 0.2 0.3]\n",
      "\n",
      "x+y\n",
      "[3.1 4.2 5.3] tensor([3.1000, 4.2000, 5.3000])\n",
      "\n",
      "norm\n",
      "0.37416573867739417 tensor(0.3742)\n",
      "\n",
      "mean along the 0th dimension\n",
      "[2. 3.] tensor([2., 3.])\n"
     ]
    }
   ],
   "source": [
    "# we create tensors in a similar way to numpy nd arrays\n",
    "x_numpy = np.array([0.1, 0.2, 0.3])\n",
    "x_torch = torch.tensor([0.1, 0.2, 0.3])\n",
    "print('x_numpy, x_torch')\n",
    "print(x_numpy, x_torch)\n",
    "print()\n",
    "\n",
    "# to and from numpy, pytorch\n",
    "print('to and from numpy and pytorch')\n",
    "print(torch.from_numpy(x_numpy), x_torch.numpy())\n",
    "print()\n",
    "\n",
    "# we can do basic operations like +-*/\n",
    "y_numpy = np.array([3,4,5.])\n",
    "y_torch = torch.tensor([3,4,5.])\n",
    "print(\"x+y\")\n",
    "print(x_numpy + y_numpy, x_torch + y_torch)\n",
    "print()\n",
    "\n",
    "# many functions that are in numpy are also in pytorch\n",
    "print(\"norm\")\n",
    "print(np.linalg.norm(x_numpy), torch.norm(x_torch))\n",
    "print()\n",
    "\n",
    "# to apply an operation along a dimension,\n",
    "# we use the dim keyword argument instead of axis\n",
    "print(\"mean along the 0th dimension\")\n",
    "x_numpy = np.array([[1,2],[3,4.]])\n",
    "x_torch = torch.tensor([[1,2],[3,4.]])\n",
    "print(np.mean(x_numpy, axis=0), torch.mean(x_torch, dim=0))\n"
   ]
  },
  {
   "cell_type": "markdown",
   "metadata": {
    "id": "TtyttsoZMThL"
   },
   "source": [
    "### Tensor.view\n",
    "We can use the `Tensor.view()` function to reshape tensors similarly to `numpy.reshape()`\n",
    "\n",
    "It can also automatically calculate the correct dimension if a `-1` is passed in. This is useful if we are working with batches, but the batch size is unknown."
   ]
  },
  {
   "cell_type": "code",
   "execution_count": 118,
   "metadata": {
    "colab": {
     "base_uri": "https://localhost:8080/",
     "height": 69
    },
    "id": "ABhZ5mKpMThM",
    "outputId": "312318b2-7ba9-4867-f289-141f09786ee4"
   },
   "outputs": [
    {
     "name": "stdout",
     "output_type": "stream",
     "text": [
      "tensor([[[[ 4.1549e-01,  1.2418e+00, -5.9652e-02,  ..., -1.2715e+00,\n",
      "            3.2162e-01, -2.1700e-01],\n",
      "          [ 1.0059e-01, -2.7410e-01,  6.0636e-01,  ...,  4.6824e-01,\n",
      "            5.6736e-01,  7.5577e-01],\n",
      "          [-4.8186e-01,  5.0016e-01,  3.2022e-01,  ...,  7.3162e-01,\n",
      "           -5.3114e-01,  5.8301e-01],\n",
      "          ...,\n",
      "          [ 1.8210e+00, -1.1465e-01, -1.2788e+00,  ..., -1.6201e-01,\n",
      "           -2.7692e+00, -2.5014e-01],\n",
      "          [ 4.4369e-01,  8.8837e-02, -7.9332e-01,  ...,  1.3867e+00,\n",
      "           -7.6429e-02, -2.7608e-01],\n",
      "          [ 7.7107e-02, -1.8573e-01, -1.4080e+00,  ..., -9.7084e-01,\n",
      "           -1.2470e+00, -2.5729e-01]],\n",
      "\n",
      "         [[ 1.0295e+00,  3.3301e-01,  6.9952e-01,  ...,  1.4918e+00,\n",
      "           -9.3303e-01, -6.5883e-02],\n",
      "          [ 1.0721e+00,  4.3090e-01,  7.3455e-01,  ..., -6.0992e-01,\n",
      "            8.8309e-01, -6.9214e-01],\n",
      "          [ 2.9637e-01, -4.8557e-01,  6.7689e-01,  ...,  1.3190e+00,\n",
      "            7.3534e-01, -5.9384e-01],\n",
      "          ...,\n",
      "          [ 6.5153e-01, -6.0284e-01,  1.1990e+00,  ..., -9.4026e-01,\n",
      "            6.7833e-01,  3.7064e-01],\n",
      "          [-5.5672e-01,  3.2762e-01, -1.1125e-02,  ...,  1.2215e+00,\n",
      "            3.4804e-01, -5.7436e-01],\n",
      "          [-2.5888e+00,  2.0766e+00,  7.1417e-01,  ..., -7.4109e-01,\n",
      "           -1.2020e+00,  1.1483e-01]],\n",
      "\n",
      "         [[ 5.6562e-01, -1.0266e+00,  1.7725e+00,  ..., -1.9673e-01,\n",
      "            4.9643e-01, -1.0458e+00],\n",
      "          [ 1.1523e+00, -6.2629e-01, -8.4997e-01,  ...,  9.3987e-01,\n",
      "           -1.4429e+00,  8.9150e-01],\n",
      "          [-2.7587e-01, -1.8783e+00,  6.1808e-01,  ..., -2.1713e-01,\n",
      "            2.7215e-01, -6.2241e-01],\n",
      "          ...,\n",
      "          [-8.1736e-01,  9.0916e-01, -2.5300e+00,  ...,  5.4461e-01,\n",
      "            9.6049e-01, -2.0339e-01],\n",
      "          [ 8.2046e-01,  3.2687e-01,  1.9697e+00,  ...,  7.5301e-01,\n",
      "            8.4826e-01,  2.8124e-01],\n",
      "          [ 2.6911e-01,  9.3671e-01,  9.8207e-01,  ..., -1.5827e-01,\n",
      "           -7.1130e-01, -5.3917e-01]]],\n",
      "\n",
      "\n",
      "        [[[-8.0723e-01,  2.0003e+00,  1.1601e-01,  ...,  1.0064e+00,\n",
      "           -1.1572e-01,  1.5252e-01],\n",
      "          [ 9.5191e-01,  1.6008e-02,  8.2259e-01,  ..., -9.5780e-01,\n",
      "            3.9349e-01, -1.0117e-02],\n",
      "          [-3.8666e-01,  3.9772e-01, -5.7618e-01,  ..., -1.5958e-01,\n",
      "           -6.0233e-01, -8.2620e-01],\n",
      "          ...,\n",
      "          [-1.1516e-01, -3.5638e-02,  1.0050e+00,  ..., -3.0251e-01,\n",
      "            6.7650e-01,  1.4441e+00],\n",
      "          [ 3.4209e-01, -8.4491e-01, -4.8162e-02,  ...,  7.9047e-01,\n",
      "            1.6211e+00, -1.9037e+00],\n",
      "          [ 1.1584e+00,  2.0542e-01,  8.6209e-01,  ..., -2.4908e-01,\n",
      "            7.5679e-01,  7.6751e-01]],\n",
      "\n",
      "         [[-5.0695e-01,  9.7947e-01, -2.1156e+00,  ...,  3.4819e-01,\n",
      "            7.3164e-01,  7.6352e-02],\n",
      "          [ 2.1191e+00,  9.8745e-01, -2.3272e-01,  ..., -1.4102e-01,\n",
      "            1.9811e-01, -9.3783e-01],\n",
      "          [ 2.8172e-01, -4.8819e-01,  1.4426e+00,  ...,  1.8091e+00,\n",
      "            5.5941e-01,  6.2325e-02],\n",
      "          ...,\n",
      "          [-2.4247e-01,  1.0823e+00,  7.7387e-01,  ..., -8.3022e-02,\n",
      "           -2.4161e-01,  6.3648e-01],\n",
      "          [ 8.6011e-01,  9.3569e-01,  5.8403e-01,  ..., -2.9391e-01,\n",
      "            1.3670e+00,  4.7872e-01],\n",
      "          [ 1.1914e+00, -3.8097e-01, -5.2423e-01,  ..., -1.0854e+00,\n",
      "           -8.3139e-01, -6.8752e-01]],\n",
      "\n",
      "         [[ 5.3712e-01,  5.5895e-01,  3.2141e-02,  ...,  1.3070e+00,\n",
      "            1.1026e+00, -2.2921e-01],\n",
      "          [ 2.6346e-01,  2.2159e+00, -6.2255e-01,  ...,  1.4321e-02,\n",
      "            1.0576e+00, -1.8366e+00],\n",
      "          [ 2.4063e+00,  7.1212e-01,  3.0372e-02,  ...,  2.3159e+00,\n",
      "           -1.8920e-01, -1.4193e+00],\n",
      "          ...,\n",
      "          [ 8.6388e-01, -7.6085e-01,  1.5347e+00,  ...,  5.6607e-01,\n",
      "            6.4474e-01,  1.0899e+00],\n",
      "          [-3.7233e-01, -1.4071e+00, -4.0108e-01,  ...,  1.1583e+00,\n",
      "            6.6370e-01, -1.3265e+00],\n",
      "          [-1.1679e-01,  1.5187e+00, -2.5510e-01,  ...,  1.9597e+00,\n",
      "           -9.6414e-01, -6.2694e-01]]],\n",
      "\n",
      "\n",
      "        [[[-9.7984e-01, -5.4502e-01, -1.6563e+00,  ..., -1.4292e+00,\n",
      "            3.9656e-01, -7.6656e-01],\n",
      "          [ 1.5943e+00, -1.4810e+00,  5.2609e-01,  ..., -5.7399e-01,\n",
      "           -2.3041e+00,  8.2293e-01],\n",
      "          [-2.3301e-01,  6.8010e-01, -1.0851e+00,  ..., -1.1538e+00,\n",
      "            2.2642e-01,  1.3222e-01],\n",
      "          ...,\n",
      "          [-2.6808e+00, -2.2243e+00, -1.6786e+00,  ..., -1.8456e+00,\n",
      "           -5.4728e-01, -1.1293e+00],\n",
      "          [ 7.4152e-01, -7.0841e-01, -1.0745e+00,  ..., -1.2002e+00,\n",
      "            5.5149e-01,  5.9136e-01],\n",
      "          [ 3.2476e-01, -1.8937e+00, -8.1652e-01,  ...,  5.5576e-01,\n",
      "            1.4972e+00,  1.0947e+00]],\n",
      "\n",
      "         [[ 2.1370e+00, -1.0619e+00,  9.3233e-01,  ...,  1.0374e+00,\n",
      "           -4.4120e-03, -1.1228e+00],\n",
      "          [ 5.5630e-01,  1.6765e-01,  2.2678e-01,  ...,  1.0338e+00,\n",
      "           -1.2566e+00, -1.7702e+00],\n",
      "          [-7.0937e-01,  2.4324e+00,  1.2251e+00,  ...,  1.1924e+00,\n",
      "            2.0524e+00,  3.3863e-01],\n",
      "          ...,\n",
      "          [ 1.1611e+00, -1.0431e+00,  3.9681e-01,  ..., -2.1942e+00,\n",
      "            1.0724e+00, -6.6668e-01],\n",
      "          [ 6.9855e-01, -5.4655e-01,  1.7129e+00,  ..., -2.3322e-01,\n",
      "           -2.3328e-01,  1.3876e+00],\n",
      "          [ 8.5214e-02,  1.7288e+00,  1.2721e-01,  ...,  2.5933e-01,\n",
      "            1.8970e-01, -1.2949e+00]],\n",
      "\n",
      "         [[-8.5263e-01,  4.8895e-01,  2.5508e+00,  ...,  3.1597e+00,\n",
      "           -1.3527e+00,  1.6891e+00],\n",
      "          [-1.1812e-01,  6.2487e-02,  4.9905e-01,  ...,  7.7473e-02,\n",
      "           -6.2721e-01,  1.2808e+00],\n",
      "          [ 4.5766e-01, -3.7843e-03, -1.2925e+00,  ...,  7.0476e-01,\n",
      "           -1.7713e+00, -7.3107e-01],\n",
      "          ...,\n",
      "          [ 1.0976e+00, -4.4672e-01, -7.1526e-01,  ..., -4.5590e-01,\n",
      "           -3.3443e-01,  4.9152e-02],\n",
      "          [ 1.9873e+00,  2.1680e-02,  1.2178e+00,  ..., -2.0382e+00,\n",
      "           -3.9185e-01, -1.0351e+00],\n",
      "          [ 1.6458e+00,  1.4011e+00, -7.3529e-01,  ...,  1.6875e+00,\n",
      "           -5.8154e-01, -2.1254e-01]]],\n",
      "\n",
      "\n",
      "        ...,\n",
      "\n",
      "\n",
      "        [[[-3.2661e-02,  2.5279e+00,  7.7776e-01,  ..., -1.2177e+00,\n",
      "            2.0861e+00, -3.0569e-01],\n",
      "          [-7.8488e-01, -9.3824e-01,  5.0350e-01,  ...,  9.8657e-01,\n",
      "            5.9476e-01, -1.7982e-01],\n",
      "          [-6.6242e-01, -1.4493e+00, -1.0082e-01,  ...,  9.1202e-01,\n",
      "            1.5916e+00, -3.5987e-01],\n",
      "          ...,\n",
      "          [-6.0099e-01, -1.2831e+00, -1.3008e+00,  ..., -1.9072e+00,\n",
      "            5.8911e-01,  1.0612e+00],\n",
      "          [ 7.2560e-01, -1.9421e+00, -9.3622e-01,  ...,  4.3085e-01,\n",
      "           -2.7550e+00, -1.5275e-01],\n",
      "          [-4.4284e-01, -3.7925e-01,  9.0451e-01,  ...,  1.6097e-01,\n",
      "           -4.2576e-01,  3.7882e-01]],\n",
      "\n",
      "         [[-3.1244e-01,  1.5615e+00,  6.6223e-01,  ...,  8.6901e-01,\n",
      "           -1.5057e-01,  1.6541e+00],\n",
      "          [ 1.0535e+00,  7.2254e-01, -8.4758e-02,  ..., -6.9714e-01,\n",
      "           -6.3001e-01, -1.0637e-01],\n",
      "          [-7.6892e-01, -2.6125e-02,  1.0301e+00,  ...,  6.7115e-01,\n",
      "           -3.0161e+00, -2.8100e-01],\n",
      "          ...,\n",
      "          [ 1.3146e+00,  2.4931e+00,  2.1530e-01,  ..., -1.6730e+00,\n",
      "            2.0233e+00,  7.4164e-01],\n",
      "          [ 4.5169e-01, -4.9813e-01, -5.6577e-02,  ..., -6.2951e-01,\n",
      "           -2.9647e-01, -3.5818e-01],\n",
      "          [-1.3377e+00, -1.1957e+00,  2.0696e-01,  ...,  3.1375e-01,\n",
      "           -5.3283e-03, -4.0367e-01]],\n",
      "\n",
      "         [[ 2.7605e-01, -1.5745e-01,  4.8957e-01,  ..., -7.1456e-01,\n",
      "            8.2485e-02,  7.0509e-01],\n",
      "          [-8.9238e-01, -6.8050e-01,  3.3510e-01,  ...,  1.4247e+00,\n",
      "           -7.0965e-01, -5.8775e-02],\n",
      "          [-6.2819e-02,  1.0718e+00, -1.0005e-01,  ..., -7.6358e-01,\n",
      "           -1.7745e-03, -1.2562e+00],\n",
      "          ...,\n",
      "          [-8.8217e-01,  4.6293e-01, -5.7073e-01,  ..., -1.5464e+00,\n",
      "           -2.5602e-01, -5.1204e-01],\n",
      "          [ 1.4496e+00, -8.3888e-01,  1.7255e+00,  ...,  3.7998e-01,\n",
      "           -5.1605e-03,  7.5143e-01],\n",
      "          [ 7.0789e-01,  1.1956e+00,  1.2894e+00,  ..., -1.3570e-01,\n",
      "           -2.5247e-01,  1.5657e+00]]],\n",
      "\n",
      "\n",
      "        [[[-3.3053e-01, -9.8382e-02, -2.0271e+00,  ...,  6.8312e-01,\n",
      "            8.5623e-01, -4.1527e-01],\n",
      "          [-1.0162e-01,  1.2581e+00, -1.0517e-01,  ...,  4.7373e-01,\n",
      "           -6.4034e-02, -6.1043e-01],\n",
      "          [-4.6718e-01, -1.1801e+00,  2.8487e-01,  ...,  3.4462e-01,\n",
      "           -1.0299e+00,  1.5068e+00],\n",
      "          ...,\n",
      "          [ 8.3130e-02, -6.1112e-01, -9.3601e-01,  ..., -6.9171e-01,\n",
      "           -1.2062e+00, -4.3318e-01],\n",
      "          [-5.5308e-01,  2.3898e+00,  4.5165e-01,  ...,  3.1993e-01,\n",
      "            6.3692e-01,  4.1639e-01],\n",
      "          [-3.2829e-01,  1.4491e+00,  9.6403e-01,  ...,  3.9991e-01,\n",
      "            1.7387e+00, -7.8327e-01]],\n",
      "\n",
      "         [[ 1.0880e+00,  6.2374e-01,  2.3780e-01,  ..., -8.7701e-01,\n",
      "           -8.6373e-01,  1.8450e+00],\n",
      "          [-1.7068e+00,  1.1275e-01, -1.0965e+00,  ..., -1.0129e+00,\n",
      "            3.1489e-01, -1.0585e+00],\n",
      "          [ 1.3972e+00,  5.3114e-01, -3.8551e-01,  ...,  5.0276e-01,\n",
      "           -4.6007e-01,  4.1892e-01],\n",
      "          ...,\n",
      "          [ 1.9031e+00, -5.7975e-01, -7.7806e-01,  ..., -1.3208e+00,\n",
      "            4.0466e-01,  4.7429e-01],\n",
      "          [ 2.2531e+00, -1.3244e-01,  8.1160e-01,  ..., -1.6538e-01,\n",
      "            4.6284e-01,  1.0636e+00],\n",
      "          [-1.2334e+00,  9.5296e-01, -9.2339e-01,  ..., -5.6101e-02,\n",
      "           -5.3348e-01, -1.7160e+00]],\n",
      "\n",
      "         [[-8.9956e-01, -3.8069e-01, -1.2358e+00,  ...,  5.9254e-01,\n",
      "            1.4590e+00,  5.9495e-01],\n",
      "          [-6.0043e-01,  2.7700e-01,  4.2707e-03,  ...,  1.3062e+00,\n",
      "            4.5119e-01, -6.6846e-01],\n",
      "          [-1.3567e+00,  3.2900e-01,  4.8788e-01,  ...,  1.7698e+00,\n",
      "            1.0209e-01,  5.8790e-01],\n",
      "          ...,\n",
      "          [ 1.0412e+00,  4.1140e-01,  6.4849e-02,  ..., -1.2288e+00,\n",
      "           -3.0649e-01,  2.4933e-02],\n",
      "          [-1.5594e+00, -1.6071e+00,  4.4284e-01,  ...,  3.0338e-01,\n",
      "            2.1343e+00,  3.7445e-01],\n",
      "          [-4.0116e-01,  8.7545e-01, -4.0846e-01,  ...,  2.0104e-02,\n",
      "            2.2124e+00,  1.1165e+00]]],\n",
      "\n",
      "\n",
      "        [[[-5.2869e-01, -2.3383e-01,  2.9707e-01,  ..., -1.5060e+00,\n",
      "           -1.6157e+00, -1.2576e+00],\n",
      "          [ 1.1213e+00, -2.8471e-03,  4.0681e-01,  ...,  5.0239e-01,\n",
      "            1.4218e+00,  3.3948e-01],\n",
      "          [ 1.0972e+00,  1.7206e-01, -1.1833e+00,  ..., -5.1202e-01,\n",
      "           -2.8330e-01,  1.4320e+00],\n",
      "          ...,\n",
      "          [ 7.7942e-01,  5.3002e-01, -2.0315e+00,  ...,  2.6592e-02,\n",
      "            9.8848e-01, -9.8789e-01],\n",
      "          [ 8.3798e-01,  1.0529e+00, -1.1669e+00,  ..., -7.6691e-02,\n",
      "            5.4262e-01,  3.4554e-01],\n",
      "          [-1.3276e+00,  2.0272e+00, -7.0290e-01,  ...,  2.3302e-01,\n",
      "           -1.6676e-02, -2.5621e-01]],\n",
      "\n",
      "         [[ 7.5456e-02,  1.0529e+00,  5.3150e-01,  ..., -1.5343e+00,\n",
      "           -1.9632e-01,  1.9900e-01],\n",
      "          [-6.7218e-02, -3.8223e-01, -1.1173e+00,  ..., -3.9972e-03,\n",
      "            9.4278e-01,  2.7103e-02],\n",
      "          [ 8.3582e-01,  6.2717e-01,  2.4510e-01,  ..., -4.6211e-01,\n",
      "           -1.3207e+00, -1.3086e+00],\n",
      "          ...,\n",
      "          [-5.5825e-01,  1.6412e-01, -5.2276e-01,  ..., -3.1847e-01,\n",
      "            3.8284e-01,  1.0580e+00],\n",
      "          [-6.6989e-01,  8.7206e-01,  2.1772e-01,  ..., -1.0171e+00,\n",
      "            1.2961e+00,  4.6808e-01],\n",
      "          [-8.1194e-02,  1.1017e+00, -1.3442e-01,  ...,  1.2686e+00,\n",
      "            8.0917e-01, -1.1356e-01]],\n",
      "\n",
      "         [[ 3.6867e-01, -2.7736e-02, -2.3128e-01,  ..., -1.7252e-01,\n",
      "            5.6924e-01,  1.9496e+00],\n",
      "          [-6.9547e-01,  8.5043e-01,  9.1825e-01,  ...,  2.1718e+00,\n",
      "            4.8583e-01,  1.6204e+00],\n",
      "          [-8.5268e-01, -8.5158e-01,  7.1388e-01,  ...,  1.3856e+00,\n",
      "            7.6031e-01, -1.3406e+00],\n",
      "          ...,\n",
      "          [ 1.0614e+00, -9.9981e-01,  8.9805e-01,  ...,  8.1634e-01,\n",
      "           -5.9414e-01,  5.8846e-01],\n",
      "          [-4.2297e-01,  6.1302e-01, -5.8139e-01,  ..., -2.0702e+00,\n",
      "           -2.1238e-01, -1.2633e+00],\n",
      "          [-2.5555e-01,  1.1567e-01, -9.8029e-01,  ..., -5.1717e-01,\n",
      "            2.6528e+00, -2.4323e-01]]]])\n",
      "torch.Size([10000, 3, 28, 28])\n",
      "torch.Size([10000, 3, 784])\n",
      "torch.Size([10000, 3, 784])\n"
     ]
    }
   ],
   "source": [
    "# \"MNIST\"\n",
    "# torch.rand 返回一个张量，包含了从区间[0, 1)的均匀分布中抽取的一组随机数\n",
    "# torch.randn 返回一个张量，包含了从标准正态分布（均值为0，方差为1，即高斯白噪声）中抽取的一组随机数。张量的形状由参数sizes定义。\n",
    "\n",
    "N, C, W, H = 10000, 3, 28, 28\n",
    "X = torch.randn((N, C, W, H))\n",
    "print(X)\n",
    "print(X.shape)\n",
    "print(X.view(N, C, 784).shape)\n",
    "print(X.view(-1, C, 784).shape) # 这里-1与reshape（-1，x）类似 automatically choose the 0th dimension"
   ]
  },
  {
   "cell_type": "markdown",
   "metadata": {
    "id": "AXgxfCTMOjIp"
   },
   "source": [
    "### BROADCASTING SEMANTICS\n",
    "Two tensors are “broadcastable” if the following rules hold:\n",
    "\n",
    "Each tensor has at least one dimension.\n",
    "\n",
    "When iterating over the dimension sizes, starting at the trailing dimension, the dimension sizes must either be equal, one of them is 1, or one of them does not exist."
   ]
  },
  {
   "cell_type": "code",
   "execution_count": 119,
   "metadata": {
    "colab": {
     "base_uri": "https://localhost:8080/",
     "height": 35
    },
    "id": "9ioj-DAhOjiN",
    "outputId": "53f3e777-491b-4be6-a6a2-9eedc70f2046"
   },
   "outputs": [
    {
     "name": "stdout",
     "output_type": "stream",
     "text": [
      "tensor([[[[1.0194e-38],\n",
      "          [9.1837e-39],\n",
      "          [4.6837e-39],\n",
      "          [9.2755e-39]]],\n",
      "\n",
      "\n",
      "        [[[1.0837e-38],\n",
      "          [8.4490e-39],\n",
      "          [1.0653e-38],\n",
      "          [9.1837e-39]]],\n",
      "\n",
      "\n",
      "        [[[8.4490e-39],\n",
      "          [9.6429e-39],\n",
      "          [8.4490e-39],\n",
      "          [1.0745e-38]]],\n",
      "\n",
      "\n",
      "        [[[1.0653e-38],\n",
      "          [1.0286e-38],\n",
      "          [1.0194e-38],\n",
      "          [9.2755e-39]]],\n",
      "\n",
      "\n",
      "        [[[1.0561e-38],\n",
      "          [1.0102e-38],\n",
      "          [8.4490e-39],\n",
      "          [1.0745e-38]]]])\n",
      "torch.Size([5, 3, 4, 1])\n"
     ]
    }
   ],
   "source": [
    "# PyTorch operations support NumPy Broadcasting Semantics.\n",
    "x=torch.empty(5,1,4,1)\n",
    "y=torch.empty(  3,1,1) \n",
    "print(x)\n",
    "# 相加时 已大的为主\n",
    "print((x+y).size())"
   ]
  },
  {
   "cell_type": "markdown",
   "metadata": {
    "id": "Y3vQ3yD9MThP"
   },
   "source": [
    "## Computation graphs\n",
    "\n",
    "What's special about PyTorch's `tensor` object is that it implicitly creates a computation graph in the background. A computation graph is a a way of writing a mathematical expression as a graph. There is an algorithm to compute the gradients of all the variables of a computation graph in time on the same order it is to compute the function itself.\n",
    "\n",
    "Consider the expression $e=(a+b)*(b+1)$ with values $a=2, b=1$. We can draw the evaluated computation graph as\n",
    "<br>\n",
    "<br>\n",
    "\n",
    "In PyTorch, we can write this as"
   ]
  },
  {
   "cell_type": "markdown",
   "metadata": {
    "id": "G-HpojJ_MThQ"
   },
   "source": [
    "![tree-img](https://colah.github.io/posts/2015-08-Backprop/img/tree-eval.png)\n",
    "\n",
    "[source](https://colah.github.io/posts/2015-08-Backprop/)"
   ]
  },
  {
   "cell_type": "code",
   "execution_count": 120,
   "metadata": {
    "colab": {
     "base_uri": "https://localhost:8080/",
     "height": 69
    },
    "id": "n7NGX7CVMThR",
    "outputId": "e390ff56-83dc-458d-ca87-e1d57b9304af"
   },
   "outputs": [
    {
     "name": "stdout",
     "output_type": "stream",
     "text": [
      "c tensor(3., grad_fn=<AddBackward0>)\n",
      "d tensor(2., grad_fn=<AddBackward0>)\n",
      "e tensor(6., grad_fn=<MulBackward0>)\n"
     ]
    }
   ],
   "source": [
    "a = torch.tensor(2.0, requires_grad=True) # we set requires_grad=True to let PyTorch know to keep the graph\n",
    "b = torch.tensor(1.0, requires_grad=True)\n",
    "c = a + b\n",
    "d = b + 1\n",
    "e = c * d\n",
    "print('c', c)\n",
    "print('d', d)\n",
    "print('e', e)"
   ]
  },
  {
   "cell_type": "markdown",
   "metadata": {
    "id": "orGtJTjkMThU"
   },
   "source": [
    "We can see that PyTorch kept track of the computation graph for us."
   ]
  },
  {
   "cell_type": "markdown",
   "metadata": {
    "id": "gPZfJ1hy4uxj"
   },
   "source": [
    "## CUDA SEMANTICS\n",
    "It's easy cupy tensor from cpu to gpu or from gpu to cpu."
   ]
  },
  {
   "cell_type": "code",
   "execution_count": 121,
   "metadata": {
    "colab": {
     "base_uri": "https://localhost:8080/",
     "height": 121
    },
    "id": "JYqe5vVv43tG",
    "outputId": "202de93f-1f82-4ee4-9c53-0ec985655323",
    "pycharm": {
     "is_executing": true
    }
   },
   "outputs": [
    {
     "name": "stdout",
     "output_type": "stream",
     "text": [
      "tensor([0.3959, 0.6177, 0.7256, 0.0971, 0.9186, 0.8277, 0.4409, 0.9344, 0.8967,\n",
      "        0.1897])\n",
      "tensor([0.3959, 0.6177, 0.7256, 0.0971, 0.9186, 0.8277, 0.4409, 0.9344, 0.8967,\n",
      "        0.1897], device='cuda:0')\n",
      "tensor([0.3959, 0.6177, 0.7256, 0.0971, 0.9186, 0.8277, 0.4409, 0.9344, 0.8967,\n",
      "        0.1897])\n"
     ]
    }
   ],
   "source": [
    "cpu = torch.device(\"cpu\")\n",
    "gpu = torch.device(\"cuda\")\n",
    "\n",
    "x = torch.rand(10)\n",
    "print(x)\n",
    "x = x.to(gpu)\n",
    "print(x)\n",
    "x = x.to(cpu)\n",
    "print(x)"
   ]
  },
  {
   "cell_type": "markdown",
   "metadata": {
    "id": "R7Wy2mEOMThU"
   },
   "source": [
    "## PyTorch as an auto grad framework\n",
    "\n",
    "Now that we have seen that PyTorch keeps the graph around for us, let's use it to compute some gradients for us.\n",
    "\n",
    "Consider the function $f(x) = (x-2)^2$.\n",
    "\n",
    "Q: Compute $\\frac{d}{dx} f(x)$ and then compute $f'(1)$.\n",
    "\n",
    "We make a `backward()` call on the leaf variable (`y`) in the computation, computing all the gradients of `y` at once."
   ]
  },
  {
   "cell_type": "code",
   "execution_count": 122,
   "metadata": {
    "colab": {
     "base_uri": "https://localhost:8080/",
     "height": 52
    },
    "id": "zvN0jSOKMThV",
    "outputId": "c5b113bc-1b6b-42d7-83a1-fdfe6240a2da",
    "pycharm": {
     "is_executing": true
    }
   },
   "outputs": [
    {
     "name": "stdout",
     "output_type": "stream",
     "text": [
      "Analytical f'(x): tensor([-2.], grad_fn=<MulBackward0>)\n",
      "PyTorch's f'(x): tensor([-2.])\n"
     ]
    }
   ],
   "source": [
    "# 比较手工求导 与 Pytorch求导\n",
    "\n",
    "# 原函数\n",
    "def f(x):\n",
    "    return (x-2)**2\n",
    "\n",
    "# 导函数\n",
    "def fp(x):\n",
    "    return 2*(x-2)\n",
    "\n",
    "x = torch.tensor([1.0], requires_grad=True)\n",
    "\n",
    "y = f(x)\n",
    "y.backward() # 反向求导，结果会赋值给x.grad\n",
    "\n",
    "# 比较\n",
    "print('Analytical f\\'(x):', fp(x))\n",
    "print('PyTorch\\'s f\\'(x):', x.grad)  # y.backward()之后，x.grad才会有值\n",
    "\n"
   ]
  },
  {
   "cell_type": "markdown",
   "metadata": {
    "id": "yvJR6H7KMThX"
   },
   "source": [
    "It can also find gradients of functions.\n",
    "\n",
    "Let $w = [w_1, w_2]^T$\n",
    "\n",
    "Consider $g(w) = 2w_1w_2 + w_2\\cos(w_1)$\n",
    "\n",
    "Q: Compute $\\nabla_w g(w)$ and verify $\\nabla_w g([\\pi,1]) = [2, \\pi - 1]^T$"
   ]
  },
  {
   "cell_type": "code",
   "execution_count": 123,
   "metadata": {
    "colab": {
     "base_uri": "https://localhost:8080/",
     "height": 52
    },
    "id": "-WCp53C1MThY",
    "outputId": "2d448c41-cb28-46c1-e072-5095a1dd82aa",
    "pycharm": {
     "is_executing": true
    }
   },
   "outputs": [
    {
     "name": "stdout",
     "output_type": "stream",
     "text": [
      "Analytical grad g(w) tensor([2.0000, 5.2832])\n",
      "PyTorch's grad g(w) tensor([2.0000, 5.2832])\n"
     ]
    }
   ],
   "source": [
    "def g(w):\n",
    "    return 2*w[0]*w[1] + w[1]*torch.cos(w[0])\n",
    "\n",
    "def grad_g(w):\n",
    "    return torch.tensor([2*w[1] - w[1]*torch.sin(w[0]), 2*w[0] + torch.cos(w[0])])\n",
    "\n",
    "w = torch.tensor([np.pi, 1], requires_grad=True)\n",
    "\n",
    "z = g(w)\n",
    "z.backward()\n",
    "\n",
    "print('Analytical grad g(w)', grad_g(w))\n",
    "print('PyTorch\\'s grad g(w)', w.grad)\n"
   ]
  },
  {
   "cell_type": "markdown",
   "metadata": {
    "id": "zqyBFdobMTha"
   },
   "source": [
    "## Using the gradients\n",
    "Now that we have gradients, we can use our favorite optimization algorithm: gradient descent!\n",
    "\n",
    "Let $f$ the same function we defined above.\n",
    "\n",
    "Q: What is the value of $x$ that minimizes $f$?"
   ]
  },
  {
   "cell_type": "code",
   "execution_count": 124,
   "metadata": {
    "colab": {
     "base_uri": "https://localhost:8080/",
     "height": 295
    },
    "id": "m4-8fhqAMThb",
    "outputId": "98f1d676-b28f-4269-8cd0-17a405d9a8f8",
    "pycharm": {
     "is_executing": true
    }
   },
   "outputs": [
    {
     "name": "stdout",
     "output_type": "stream",
     "text": [
      "iter,\tx,\tf(x),\tf'(x),\tf'(x) pytorch\n",
      "0,\t5.000,\t9.000,\t6.000,\t6.000\n",
      "1,\t3.500,\t2.250,\t3.000,\t3.000\n",
      "2,\t2.750,\t0.562,\t1.500,\t1.500\n",
      "3,\t2.375,\t0.141,\t0.750,\t0.750\n",
      "4,\t2.188,\t0.035,\t0.375,\t0.375\n",
      "5,\t2.094,\t0.009,\t0.188,\t0.188\n",
      "6,\t2.047,\t0.002,\t0.094,\t0.094\n",
      "7,\t2.023,\t0.001,\t0.047,\t0.047\n",
      "8,\t2.012,\t0.000,\t0.023,\t0.023\n",
      "9,\t2.006,\t0.000,\t0.012,\t0.012\n",
      "10,\t2.003,\t0.000,\t0.006,\t0.006\n",
      "11,\t2.001,\t0.000,\t0.003,\t0.003\n",
      "12,\t2.001,\t0.000,\t0.001,\t0.001\n",
      "13,\t2.000,\t0.000,\t0.001,\t0.001\n",
      "14,\t2.000,\t0.000,\t0.000,\t0.000\n"
     ]
    }
   ],
   "source": [
    "x = torch.tensor([5.0], requires_grad=True)\n",
    "step_size = 0.25\n",
    "\n",
    "print('iter,\\tx,\\tf(x),\\tf\\'(x),\\tf\\'(x) pytorch')\n",
    "for i in range(15):\n",
    "    y = f(x)\n",
    "    y.backward() # compute the gradient\n",
    "    \n",
    "    print('{},\\t{:.3f},\\t{:.3f},\\t{:.3f},\\t{:.3f}'.format(i, x.item(), f(x).item(), fp(x).item(), x.grad.item()))\n",
    "    \n",
    "    x.data = x.data - step_size * x.grad # perform a GD update step\n",
    "    \n",
    "    # We need to zero the grad variable since the backward()\n",
    "    # call accumulates the gradients in .grad instead of overwriting.\n",
    "    # The detach_() is for efficiency. You do not need to worry too much about it.\n",
    "    x.grad.detach_()\n",
    "    x.grad.zero_()"
   ]
  },
  {
   "cell_type": "markdown",
   "metadata": {
    "id": "2TPWiwARMThd"
   },
   "source": [
    "# Linear Regression\n",
    "\n",
    "Now, instead of minimizing a made-up function, lets minimize a loss function on some made-up data.\n",
    "\n",
    "We will implement Gradient Descent in order to solve the task of linear regression."
   ]
  },
  {
   "cell_type": "code",
   "execution_count": 125,
   "metadata": {
    "colab": {
     "base_uri": "https://localhost:8080/",
     "height": 69
    },
    "id": "3el-4esEMThe",
    "outputId": "40f1a3ea-24e9-4fd1-b93d-12882e6052c7",
    "pycharm": {
     "is_executing": true
    }
   },
   "outputs": [
    {
     "name": "stdout",
     "output_type": "stream",
     "text": [
      "X shape torch.Size([50, 2])\n",
      "y shape torch.Size([50, 1])\n",
      "w shape torch.Size([2, 1])\n"
     ]
    }
   ],
   "source": [
    "# make a simple linear dataset with some noise\n",
    "\n",
    "d = 2\n",
    "n = 50\n",
    "X = torch.randn(n,d)\n",
    "true_w = torch.tensor([[-1.0], [2.0]])\n",
    "y = X @ true_w + torch.randn(n,1) * 0.1 # y=x*w(训练参数)+噪声\n",
    "print('X shape', X.shape)\n",
    "print('y shape', y.shape)\n",
    "print('w shape', true_w.shape)\n"
   ]
  },
  {
   "cell_type": "markdown",
   "metadata": {
    "id": "jlzoXa6UMThg"
   },
   "source": [
    "### Note: dimensions\n",
    "PyTorch does a lot of operations on batches of data. The convention is to have your data be of size $(N, d)$ where $N$ is the size of the batch of data."
   ]
  },
  {
   "cell_type": "markdown",
   "metadata": {
    "id": "l08nQdE9MThp"
   },
   "source": [
    "### Sanity check\n",
    "To verify PyTorch is computing the gradients correctly, let's recall the gradient for the RSS objective:\n",
    "\n",
    "$$\\nabla_w \\mathcal{L}_{RSS}(w; X) = \\nabla_w\\frac{1}{n} ||y - Xw||_2^2 = -\\frac{2}{n}X^T(y-Xw)$$"
   ]
  },
  {
   "cell_type": "code",
   "execution_count": 126,
   "metadata": {
    "colab": {
     "base_uri": "https://localhost:8080/",
     "height": 52
    },
    "id": "R5HfA5YcMThp",
    "outputId": "cad02754-6dde-4c34-c4dc-b273bcf2e614",
    "pycharm": {
     "is_executing": true
    }
   },
   "outputs": [
    {
     "name": "stdout",
     "output_type": "stream",
     "text": [
      "Analytical gradient [ 4.342543  -3.5023162]\n",
      "PyTorch's gradient [ 4.342543 -3.502316]\n"
     ]
    }
   ],
   "source": [
    "# define a linear model with no bias\n",
    "def model(X, w):\n",
    "    return X @ w\n",
    "\n",
    "# the residual sum of squares loss function\n",
    "def rss(y, y_hat):\n",
    "    return torch.norm(y - y_hat)**2 / n\n",
    "\n",
    "# analytical expression for the gradient\n",
    "def grad_rss(X, y, w):\n",
    "    return -2*X.t() @ (y - X @ w) / n\n",
    "\n",
    "w = torch.tensor([[1.], [0]], requires_grad=True)\n",
    "y_hat = model(X, w)\n",
    "\n",
    "loss = rss(y, y_hat)\n",
    "loss.backward()\n",
    "\n",
    "print('Analytical gradient', grad_rss(X, y, w).detach().view(2).numpy())\n",
    "print('PyTorch\\'s gradient', w.grad.view(2).numpy())\n"
   ]
  },
  {
   "cell_type": "markdown",
   "metadata": {
    "id": "Tmg4eFQAMThr"
   },
   "source": [
    "Now that we've seen PyTorch is doing the right think, let's use the gradients!\n",
    "\n",
    "## Linear regression using GD with automatically computed derivatives\n",
    "\n",
    "We will now use the gradients to run the gradient descent algorithm.\n",
    "\n",
    "Note: This example is an illustration to connect ideas we have seen before to PyTorch's way of doing things. We will see how to do this in the \"PyTorchic\" way in the next example."
   ]
  },
  {
   "cell_type": "code",
   "execution_count": 127,
   "metadata": {
    "colab": {
     "base_uri": "https://localhost:8080/",
     "height": 433
    },
    "id": "gea4LETnMThs",
    "outputId": "e9701f26-7f06-4bc2-80c2-1cb2b68ea666",
    "pycharm": {
     "is_executing": true
    }
   },
   "outputs": [
    {
     "name": "stdout",
     "output_type": "stream",
     "text": [
      "iter,\tloss,\tw\n",
      "0,\t7.82,\t[0.13149136 0.70046324]\n",
      "1,\t2.84,\t[-0.11822014  0.9229876 ]\n",
      "2,\t1.84,\t[-0.31444427  1.1054724 ]\n",
      "3,\t1.19,\t[-0.4684834  1.2552956]\n",
      "4,\t0.77,\t[-0.58927345  1.3784461 ]\n",
      "5,\t0.50,\t[-0.68387645  1.4797904 ]\n",
      "6,\t0.33,\t[-0.75787055  1.563287  ]\n",
      "7,\t0.22,\t[-0.8156596  1.632159 ]\n",
      "8,\t0.15,\t[-0.86071837  1.6890337 ]\n",
      "9,\t0.10,\t[-0.89578694  1.736055  ]\n",
      "10,\t0.07,\t[-0.9230244  1.7749742]\n",
      "11,\t0.05,\t[-0.94413096  1.8072236 ]\n",
      "12,\t0.03,\t[-0.9604442  1.8339758]\n",
      "13,\t0.02,\t[-0.9730157  1.8561921]\n",
      "14,\t0.02,\t[-0.9826713  1.8746614]\n",
      "15,\t0.01,\t[-0.99005884  1.8900318 ]\n",
      "16,\t0.01,\t[-0.99568594  1.9028363 ]\n",
      "17,\t0.01,\t[-0.99994993  1.913514  ]\n",
      "18,\t0.01,\t[-1.0031612  1.9224268]\n",
      "19,\t0.01,\t[-1.0055621  1.9298735]\n",
      "\n",
      "true w\t\t [-1.  2.]\n",
      "estimated w\t [-1.0055621  1.9298735]\n"
     ]
    }
   ],
   "source": [
    "step_size = 0.1\n",
    "\n",
    "print('iter,\\tloss,\\tw')\n",
    "for i in range(20):\n",
    "    y_hat = model(X, w)\n",
    "    loss = rss(y, y_hat)\n",
    "    \n",
    "    loss.backward() # compute the gradient of the loss\n",
    "    \n",
    "    w.data = w.data - step_size * w.grad # do a gradient descent step\n",
    "    \n",
    "    print('{},\\t{:.2f},\\t{}'.format(i, loss.item(), w.view(2).detach().numpy()))\n",
    "    \n",
    "    # We need to zero the grad variable since the backward()\n",
    "    # call accumulates the gradients in .grad instead of overwriting.\n",
    "    # The detach_() is for efficiency. You do not need to worry too much about it.\n",
    "    w.grad.detach()\n",
    "    w.grad.zero_()\n",
    "\n",
    "print('\\ntrue w\\t\\t', true_w.view(2).numpy())\n",
    "print('estimated w\\t', w.view(2).detach().numpy())"
   ]
  },
  {
   "cell_type": "markdown",
   "metadata": {
    "id": "AexdjJtcMThu"
   },
   "source": [
    "## torch.nn.Module\n",
    "\n",
    "`Module` is PyTorch's way of performing operations on tensors. Modules are implemented as subclasses of the `torch.nn.Module` class. All modules are callable and can be composed together to create complex functions.\n",
    "\n",
    "[`torch.nn` docs](https://pytorch.org/docs/stable/nn.html)\n",
    "\n",
    "Note: most of the functionality implemented for modules can be accessed in a functional form via `torch.nn.functional`, but these require you to create and manage the weight tensors yourself.\n",
    "\n",
    "[`torch.nn.functional` docs](https://pytorch.org/docs/stable/nn.html#torch-nn-functional)."
   ]
  },
  {
   "cell_type": "markdown",
   "metadata": {
    "id": "vuigjBAiMThv"
   },
   "source": [
    "### Linear Module\n",
    "The bread and butter of modules is the Linear module which does a linear transformation with a bias. It takes the input and output dimensions as parameters, and creates the weights in the object.\n",
    "\n",
    "Unlike how we initialized our $w$ manually, the Linear module automatically initializes the weights randomly. For minimizing non convex loss functions (e.g. training neural networks), initialization is important and can affect results. If training isn't working as well as expected, one thing to try is manually initializing the weights to something different from the default. PyTorch implements some common initializations in `torch.nn.init`.\n",
    "\n",
    "[`torch.nn.init` docs](https://pytorch.org/docs/stable/nn.html#torch-nn-init)"
   ]
  },
  {
   "cell_type": "code",
   "execution_count": 128,
   "metadata": {
    "colab": {
     "base_uri": "https://localhost:8080/",
     "height": 225
    },
    "id": "Yi4lhPVCMThv",
    "outputId": "e0b12ab0-9759-460e-bd50-07cdb0003ae5",
    "pycharm": {
     "is_executing": true
    }
   },
   "outputs": [
    {
     "name": "stdout",
     "output_type": "stream",
     "text": [
      "example_tensor.shape torch.Size([2, 3])\n",
      "linear_module.shape torch.Size([4, 3])\n",
      "transformed.shape torch.Size([2, 4])\n",
      "\n",
      "transformed:\n",
      " tensor([[1.7471, 1.8767, 1.0113, 0.2725],\n",
      "        [4.5368, 4.9384, 1.6543, 0.4972]], grad_fn=<AddmmBackward>)\n",
      "\n",
      "recovery:\n",
      " tensor([[1.7471, 1.8767, 1.0113, 0.2725],\n",
      "        [4.5368, 4.9384, 1.6543, 0.4972]], grad_fn=<AddBackward0>)\n",
      "\n"
     ]
    }
   ],
   "source": [
    "\n",
    "\n",
    "# 样本为2个3维度特征的向量 A_2x3\n",
    "example_tensor = torch.tensor([[1.,2,3], [4,5,6]])\n",
    "# 欲变为4维度特征 即把A_2x3 变为 C_2x4 , 因C_2x4 = A_2x3 * B_3x4 + Bias，所以需要一个B_3x4, \n",
    "# nn.Linear 会帮你完成转换， 转换过程中会得到这个B_3x4以及Bias，也就是下面的linear_module.weight 和 linear_module.bias\n",
    "d_in = 3\n",
    "d_out = 4\n",
    "linear_module = nn.Linear(d_in, d_out) # d_in输入维度 d_out输出维度\n",
    "\n",
    "# 转换\n",
    "transformed = linear_module(example_tensor)\n",
    "\n",
    "print('example_tensor.shape', example_tensor.shape)\n",
    "\n",
    "# 这里linear_module.weight 不是3x4，是因为运算中使用了转置，4x3会转成3x4\n",
    "print('linear_module.shape', linear_module.weight.shape)\n",
    "print('transformed.shape', transformed.shape)\n",
    "# print()\n",
    "# print('We can see that the weights exist in the background')\n",
    "# print('W:', linear_module.weight)\n",
    "# print('b:', linear_module.bias)\n",
    "# print()\n",
    "print()\n",
    "print('transformed:\\n',transformed)\n",
    "print()\n",
    "print('recovery:\\n',example_tensor @ linear_module.weight.T + linear_module.bias)\n",
    "print()\n"
   ]
  },
  {
   "cell_type": "markdown",
   "metadata": {
    "id": "YLNmKz9BMThx"
   },
   "source": [
    "### Activation functions\n",
    "PyTorch implements a number of activation functions including but not limited to `ReLU`, `Tanh`, and `Sigmoid`. Since they are modules, they need to be instantiated."
   ]
  },
  {
   "cell_type": "code",
   "execution_count": 129,
   "metadata": {
    "colab": {
     "base_uri": "https://localhost:8080/",
     "height": 52
    },
    "id": "toOsF9qXMThy",
    "outputId": "47865021-7a3f-4f36-8151-29d5cb41e382",
    "pycharm": {
     "is_executing": true
    }
   },
   "outputs": [
    {
     "name": "stdout",
     "output_type": "stream",
     "text": [
      "example_tensor tensor([-1.,  1.,  0.])\n",
      "activated tensor([0., 1., 0.])\n"
     ]
    }
   ],
   "source": [
    "\n",
    "# 激活函数\n",
    "activation_fn = nn.ReLU() # we instantiate an instance of the ReLU module\n",
    "example_tensor = torch.tensor([-1.0, 1.0, 0.0])\n",
    "activated = activation_fn(example_tensor)\n",
    "print('example_tensor', example_tensor)\n",
    "print('activated', activated)"
   ]
  },
  {
   "cell_type": "markdown",
   "metadata": {
    "id": "tPdu_KS_MTh0"
   },
   "source": [
    "### Sequential\n",
    "\n",
    "Many times, we want to compose Modules together. `torch.nn.Sequential` provides a good interface for composing simple modules."
   ]
  },
  {
   "cell_type": "code",
   "execution_count": 130,
   "metadata": {
    "colab": {
     "base_uri": "https://localhost:8080/",
     "height": 35
    },
    "id": "yn-jaKd3MTh1",
    "outputId": "1dd86d16-7560-4882-c7bf-c8b3f1e63fbd",
    "pycharm": {
     "is_executing": true
    }
   },
   "outputs": [
    {
     "name": "stdout",
     "output_type": "stream",
     "text": [
      "transformed torch.Size([2, 1])\n"
     ]
    }
   ],
   "source": [
    "\n",
    "# 模块序列化：model(x),x会经过下面构建model的4个module\n",
    "d_in = 3\n",
    "d_hidden = 4\n",
    "d_out = 1\n",
    "model = torch.nn.Sequential(\n",
    "                            nn.Linear(d_in, d_hidden),\n",
    "                            nn.Tanh(),\n",
    "                            nn.Linear(d_hidden, d_out),\n",
    "                            nn.Sigmoid()\n",
    "                           )\n",
    "\n",
    "example_tensor = torch.tensor([[1.,2,3],[4,5,6]])\n",
    "transformed = model(example_tensor)\n",
    "print('transformed', transformed.shape)"
   ]
  },
  {
   "cell_type": "markdown",
   "metadata": {
    "id": "D5GkJ1UTMTh2"
   },
   "source": [
    "Note: we can access *all* of the parameters (of any `nn.Module`) with the `parameters()` method. "
   ]
  },
  {
   "cell_type": "code",
   "execution_count": 131,
   "metadata": {
    "colab": {
     "base_uri": "https://localhost:8080/",
     "height": 208
    },
    "id": "zTTsMkxoMTh3",
    "outputId": "6b52d368-18a1-4486-8735-00d82482dc2b",
    "pycharm": {
     "is_executing": true
    }
   },
   "outputs": [
    {
     "name": "stdout",
     "output_type": "stream",
     "text": [
      "Parameter containing:\n",
      "tensor([[-0.3128,  0.2707, -0.3952],\n",
      "        [ 0.1285,  0.1777, -0.4675],\n",
      "        [ 0.0452, -0.5630, -0.1999],\n",
      "        [ 0.5431,  0.0524,  0.1126]], requires_grad=True)\n",
      "Parameter containing:\n",
      "tensor([ 0.2683, -0.2361,  0.2769, -0.1380], requires_grad=True)\n",
      "Parameter containing:\n",
      "tensor([[ 0.4902, -0.0928, -0.2907,  0.0734]], requires_grad=True)\n",
      "Parameter containing:\n",
      "tensor([-0.0394], requires_grad=True)\n"
     ]
    }
   ],
   "source": [
    "# 拿到上面4个module的参数\n",
    "params = model.parameters()\n",
    "for param in params:\n",
    "    print(param)"
   ]
  },
  {
   "cell_type": "markdown",
   "metadata": {
    "id": "jifMOIcNMTh5"
   },
   "source": [
    "### Loss functions\n",
    "PyTorch implements many common loss functions including `MSELoss` and `CrossEntropyLoss`."
   ]
  },
  {
   "cell_type": "code",
   "execution_count": 132,
   "metadata": {
    "colab": {
     "base_uri": "https://localhost:8080/",
     "height": 35
    },
    "id": "b8NXNEhlMTh6",
    "outputId": "24e9a149-87e7-48a4-f96f-1ee6a14f0f86",
    "pycharm": {
     "is_executing": true
    }
   },
   "outputs": [
    {
     "name": "stdout",
     "output_type": "stream",
     "text": [
      "tensor(0.6667)\n"
     ]
    }
   ],
   "source": [
    "mse_loss_fn = nn.MSELoss()\n",
    "\n",
    "\n",
    "input = torch.tensor([[0., 0, 0]])\n",
    "target = torch.tensor([[1., 0, -1]])\n",
    "\n",
    "loss = mse_loss_fn(input, target)\n",
    "\n",
    "print(loss)"
   ]
  },
  {
   "cell_type": "markdown",
   "metadata": {
    "id": "Hh0YZh1QMTh7"
   },
   "source": [
    "## torch.optim\n",
    "PyTorch implements a number of gradient-based optimization methods in `torch.optim`, including Gradient Descent. At the minimum, it takes in the model parameters and a learning rate.\n",
    "\n",
    "Optimizers do not compute the gradients for you, so you must call `backward()` yourself. You also must call the `optim.zero_grad()` function before calling `backward()` since by default PyTorch does and inplace add to the `.grad` member variable rather than overwriting it.\n",
    "\n",
    "This does both the `detach_()` and `zero_()` calls on all tensor's `grad` variables.\n",
    "\n",
    "[`torch.optim` docs](https://pytorch.org/docs/stable/optim.html)"
   ]
  },
  {
   "cell_type": "code",
   "execution_count": 133,
   "metadata": {
    "colab": {
     "base_uri": "https://localhost:8080/",
     "height": 87
    },
    "id": "CldNJzMHMTh8",
    "outputId": "c62667a6-2b2a-4191-85d2-84e3ba51f1be",
    "pycharm": {
     "is_executing": true
    }
   },
   "outputs": [
    {
     "name": "stdout",
     "output_type": "stream",
     "text": [
      "model params before: Parameter containing:\n",
      "tensor([[-0.4950]], requires_grad=True)\n",
      "model params after: Parameter containing:\n",
      "tensor([[-0.4427]], requires_grad=True)\n"
     ]
    }
   ],
   "source": [
    "# create a simple model\n",
    "model = nn.Linear(1, 1)\n",
    "\n",
    "# create a simple dataset\n",
    "X_simple = torch.tensor([[1.]])\n",
    "y_simple = torch.tensor([[2.]])\n",
    "\n",
    "# create our optimizer\n",
    "# 这里SGD （学习率的一种更新策略 sgd/momentum/Nesterov/adagrad/adadelta）\n",
    "optim = torch.optim.SGD(model.parameters(), lr=1e-2)\n",
    "mse_loss_fn = nn.MSELoss()\n",
    "\n",
    "y_hat = model(X_simple)\n",
    "print('model params before:', model.weight)\n",
    "loss = mse_loss_fn(y_hat, y_simple)\n",
    "optim.zero_grad()\n",
    "loss.backward()\n",
    "optim.step()\n",
    "print('model params after:', model.weight)\n"
   ]
  },
  {
   "cell_type": "markdown",
   "metadata": {
    "id": "dxv9VHTOMTh-"
   },
   "source": [
    "As we can see, the parameter was updated in the correct direction"
   ]
  },
  {
   "cell_type": "markdown",
   "metadata": {
    "id": "VjiD9FATMTh_"
   },
   "source": [
    "## Linear regression using GD with automatically computed derivatives and PyTorch's Modules\n",
    "\n",
    "Now let's combine what we've learned to solve linear regression in a \"PyTorchic\" way."
   ]
  },
  {
   "cell_type": "code",
   "execution_count": 134,
   "metadata": {
    "colab": {
     "base_uri": "https://localhost:8080/",
     "height": 433
    },
    "id": "RGz8gPweMTh_",
    "outputId": "e3401d7e-9f8a-4e42-96e5-dfb00c32ccf6",
    "pycharm": {
     "is_executing": true
    }
   },
   "outputs": [
    {
     "name": "stdout",
     "output_type": "stream",
     "text": [
      "iter,\tloss,\tw\n",
      "0,\t2.99,\t[-0.5453574  0.5141269]\n",
      "1,\t2.02,\t[-0.666086   0.7522292]\n",
      "2,\t1.37,\t[-0.75831056  0.9504566 ]\n",
      "3,\t0.94,\t[-0.82842976  1.1156547 ]\n",
      "4,\t0.64,\t[-0.8814486  1.2534635]\n",
      "5,\t0.44,\t[-0.92127615  1.3685349 ]\n",
      "6,\t0.31,\t[-0.9509604  1.4647106]\n",
      "7,\t0.22,\t[-0.9728737  1.5451664]\n",
      "8,\t0.15,\t[-0.98885876  1.6125307 ]\n",
      "9,\t0.11,\t[-1.0003437  1.6689818]\n",
      "10,\t0.08,\t[-1.0084321  1.7163262]\n",
      "11,\t0.06,\t[-1.0139749  1.7560644]\n",
      "12,\t0.04,\t[-1.0176253  1.7894436]\n",
      "13,\t0.03,\t[-1.0198835  1.8175017]\n",
      "14,\t0.02,\t[-1.0211303  1.8411033]\n",
      "15,\t0.02,\t[-1.0216544  1.8609697]\n",
      "16,\t0.02,\t[-1.0216731  1.8777025]\n",
      "17,\t0.01,\t[-1.0213491  1.8918046]\n",
      "18,\t0.01,\t[-1.020803   1.9036964]\n",
      "19,\t0.01,\t[-1.020123   1.9137299]\n",
      "\n",
      "true w\t\t [-1.  2.]\n",
      "estimated w\t [-1.020123   1.9137299]\n"
     ]
    }
   ],
   "source": [
    "# 一个使用pytorch实现的梯度下降\n",
    "\n",
    "step_size = 0.1\n",
    "\n",
    "# 模型fun\n",
    "linear_module = nn.Linear(d, 1, bias=False)\n",
    "# 损失函数\n",
    "loss_func = nn.MSELoss()\n",
    "# 学习率优化策略\n",
    "optim = torch.optim.SGD(linear_module.parameters(), lr=step_size)\n",
    "\n",
    "print('iter,\\tloss,\\tw')\n",
    "\n",
    "for i in range(20):\n",
    "    y_hat = linear_module(X) # 计算预测值\n",
    "    loss = loss_func(y_hat, y) # 计算loss\n",
    "    optim.zero_grad() # 清除上次计算的梯度dw\n",
    "    \n",
    "    # 计算梯度 loss fun中w的导数，w就是linear_module.parameters()\n",
    "    # loss是怎么得到w的，推测 loss <- loss_func <- y_hat <- linear_module \n",
    "    # loss算出梯度dw，保存到linear_module\n",
    "    loss.backward() \n",
    "    \n",
    "    #optim 持有 linear_module，即也拥有上面计算出的dw，最后用策略更新w\n",
    "    optim.step()\n",
    "    \n",
    "    print('{},\\t{:.2f},\\t{}'.format(i, loss.item(), linear_module.weight.view(2).detach().numpy()))\n",
    "\n",
    "print('\\ntrue w\\t\\t', true_w.view(2).numpy())\n",
    "print('estimated w\\t', linear_module.weight.view(2).detach().numpy())"
   ]
  },
  {
   "cell_type": "markdown",
   "metadata": {
    "id": "3j9hUvjQMTiD"
   },
   "source": [
    "## Linear regression using SGD \n",
    "In the previous examples, we computed the average gradient over the entire dataset (Gradient Descent). We can implement Stochastic Gradient Descent with a simple modification."
   ]
  },
  {
   "cell_type": "code",
   "execution_count": 135,
   "metadata": {
    "colab": {
     "base_uri": "https://localhost:8080/",
     "height": 260
    },
    "id": "q3EUcFMbMTiE",
    "outputId": "34a3f055-cefa-4bc2-b6fb-13b3117b620c",
    "pycharm": {
     "is_executing": true
    }
   },
   "outputs": [
    {
     "name": "stdout",
     "output_type": "stream",
     "text": [
      "iter,\tloss,\tw\n",
      "0,\t4.46,\t[-0.20530997  0.66900945]\n",
      "20,\t1.28,\t[-0.34921718  0.8908058 ]\n",
      "40,\t0.73,\t[-0.513422   1.1883926]\n",
      "60,\t0.51,\t[-0.6704745  1.5351907]\n",
      "80,\t0.16,\t[-0.7813061  1.6464837]\n",
      "100,\t0.20,\t[-0.8568147  1.7569876]\n",
      "120,\t0.03,\t[-0.90830195  1.8347709 ]\n",
      "140,\t0.00,\t[-0.9449066  1.888105 ]\n",
      "160,\t0.00,\t[-0.96574944  1.9163204 ]\n",
      "180,\t0.01,\t[-0.98202056  1.9221277 ]\n",
      "\n",
      "true w\t\t [-1.  2.]\n",
      "estimated w\t [-0.98299205  1.9443793 ]\n"
     ]
    }
   ],
   "source": [
    "step_size = 0.01\n",
    "\n",
    "linear_module = nn.Linear(d, 1)\n",
    "loss_func = nn.MSELoss()\n",
    "optim = torch.optim.SGD(linear_module.parameters(), lr=step_size)\n",
    "print('iter,\\tloss,\\tw')\n",
    "for i in range(200):\n",
    "    # 分批喂 从样本集中随机取n个样本\n",
    "    rand_idx = np.random.choice(n) # take a random point from the dataset\n",
    "    x = X[rand_idx] \n",
    "    y_hat = linear_module(x)\n",
    "    loss = loss_func(y_hat, y[rand_idx]) # only compute the loss on the single point\n",
    "    optim.zero_grad()\n",
    "    loss.backward()\n",
    "    optim.step()\n",
    "    \n",
    "    if i % 20 == 0:\n",
    "        print('{},\\t{:.2f},\\t{}'.format(i, loss.item(), linear_module.weight.view(2).detach().numpy()))\n",
    "\n",
    "print('\\ntrue w\\t\\t', true_w.view(2).numpy())\n",
    "print('estimated w\\t', linear_module.weight.view(2).detach().numpy())"
   ]
  },
  {
   "cell_type": "markdown",
   "metadata": {
    "id": "6Re8u8STMTiI"
   },
   "source": [
    "# Neural Network Basics in PyTorch\n",
    "We will try and fit a simple neural network to the data."
   ]
  },
  {
   "cell_type": "code",
   "execution_count": 136,
   "metadata": {
    "colab": {
     "base_uri": "https://localhost:8080/",
     "height": 297
    },
    "id": "401On5ckMTiJ",
    "outputId": "8f604a99-f52f-4736-fc9c-4de39d01c96d",
    "pycharm": {
     "is_executing": true
    }
   },
   "outputs": [
    {
     "data": {
      "image/png": "[encoded data removed]",
      "text/plain": [
       "<Figure size 432x288 with 1 Axes>"
      ]
     },
     "metadata": {
      "needs_background": "light"
     },
     "output_type": "display_data"
    }
   ],
   "source": [
    "%matplotlib inline\n",
    "\n",
    "d = 1\n",
    "n = 200\n",
    "# 样本集\n",
    "X = torch.rand(n,d)\n",
    "# 真实值\n",
    "y = 4 * torch.sin(np.pi * X) * torch.cos(6*np.pi*X**2)\n",
    "\n",
    "plt.scatter(X.numpy(), y.numpy())\n",
    "plt.title('plot of $f(x)$')\n",
    "plt.xlabel('$x$')\n",
    "plt.ylabel('$y$')\n",
    "\n",
    "plt.show()"
   ]
  },
  {
   "cell_type": "markdown",
   "metadata": {
    "id": "iQl2A_XDMTiL"
   },
   "source": [
    "Here we define a simple two hidden layer neural network with Tanh activations. There are a few hyper parameters to play with to get a feel for how they change the results."
   ]
  },
  {
   "cell_type": "code",
   "execution_count": 137,
   "metadata": {
    "colab": {
     "base_uri": "https://localhost:8080/",
     "height": 208
    },
    "id": "C72y6DtpMTiM",
    "outputId": "e91ae971-a87f-430e-ab35-1918173b0b4f",
    "pycharm": {
     "is_executing": true
    }
   },
   "outputs": [
    {
     "name": "stdout",
     "output_type": "stream",
     "text": [
      "iter,\tloss\n",
      "0,\t3.99\n",
      "600,\t3.70\n",
      "1200,\t2.45\n",
      "1800,\t1.13\n",
      "2400,\t0.88\n",
      "3000,\t0.63\n",
      "3600,\t0.27\n",
      "4200,\t0.08\n",
      "4800,\t0.08\n",
      "5400,\t0.06\n"
     ]
    }
   ],
   "source": [
    "# feel free to play with these parameters\n",
    "\n",
    "step_size = 0.05\n",
    "n_epochs = 6000\n",
    "n_hidden_1 = 32\n",
    "n_hidden_2 = 32\n",
    "d_out = 1\n",
    "\n",
    "neural_network = nn.Sequential(\n",
    "                            nn.Linear(d, n_hidden_1), \n",
    "                            nn.Tanh(),\n",
    "                            nn.Linear(n_hidden_1, n_hidden_2),\n",
    "                            nn.Tanh(),\n",
    "                            nn.Linear(n_hidden_2, d_out)\n",
    "                            )\n",
    "\n",
    "loss_func = nn.MSELoss()\n",
    "\n",
    "optim = torch.optim.SGD(neural_network.parameters(), lr=step_size)\n",
    "print('iter,\\tloss')\n",
    "for i in range(n_epochs):\n",
    "    y_hat = neural_network(X)\n",
    "    loss = loss_func(y_hat, y)\n",
    "    optim.zero_grad()\n",
    "    loss.backward()\n",
    "    optim.step()\n",
    "    \n",
    "    if i % (n_epochs // 10) == 0:\n",
    "        print('{},\\t{:.2f}'.format(i, loss.item()))\n",
    "\n"
   ]
  },
  {
   "cell_type": "code",
   "execution_count": 138,
   "metadata": {
    "colab": {
     "base_uri": "https://localhost:8080/",
     "height": 302
    },
    "id": "vQBkFt9LMTiO",
    "outputId": "c4353831-4f51-4087-fcaf-41b21cca1b73",
    "pycharm": {
     "is_executing": true
    }
   },
   "outputs": [
    {
     "data": {
      "image/png": "[encoded data removed]",
      "text/plain": [
       "<Figure size 432x288 with 1 Axes>"
      ]
     },
     "metadata": {
      "needs_background": "light"
     },
     "output_type": "display_data"
    }
   ],
   "source": [
    "# 从[0,1]内取等间隔的50个数  按第二维维数d，来形成第一维维数\n",
    "X_grid = torch.from_numpy(np.linspace(0,1,50)).float().view(-1, d)\n",
    "# 预测y_hat(neural_network 上面cell已训练好)\n",
    "y_hat = neural_network(X_grid)\n",
    "plt.scatter(X.numpy(), y.numpy())\n",
    "plt.plot(X_grid.detach().numpy(), y_hat.detach().numpy(), 'r')\n",
    "plt.title('plot of $f(x)$ and $\\hat{f}(x)$')\n",
    "plt.xlabel('$x$')\n",
    "plt.ylabel('$y$')\n",
    "plt.show()"
   ]
  },
  {
   "cell_type": "markdown",
   "metadata": {
    "id": "K8mPkng3MTiQ"
   },
   "source": [
    "# Things that might help on the homework\n",
    "\n",
    "## Brief Sidenote: Momentum\n",
    "\n",
    "There are other optimization algorithms besides stochastic gradient descent. One is a modification of SGD called momentum. We won't get into it here, but if you would like to read more [here](https://distill.pub/2017/momentum/) is a good place to start.\n",
    "\n",
    "We only change the step size and add the momentum keyword argument to the optimizer. Notice how it reduces the training loss in fewer iterations."
   ]
  },
  {
   "cell_type": "code",
   "execution_count": 139,
   "metadata": {
    "colab": {
     "base_uri": "https://localhost:8080/",
     "height": 208
    },
    "id": "QhGP8gZDMTiQ",
    "outputId": "41f87ecd-db93-46d8-9798-30795069e265",
    "pycharm": {
     "is_executing": true
    }
   },
   "outputs": [
    {
     "name": "stdout",
     "output_type": "stream",
     "text": [
      "iter,\tloss\n",
      "0,\t3.98\n",
      "150,\t2.77\n",
      "300,\t0.84\n",
      "450,\t0.26\n",
      "600,\t0.06\n",
      "750,\t0.04\n",
      "900,\t0.01\n",
      "1050,\t0.00\n",
      "1200,\t0.00\n",
      "1350,\t0.00\n"
     ]
    }
   ],
   "source": [
    "# 在上面那个cell的基础上\n",
    "# 使用momentum加快收敛速度\n",
    "\n",
    "# feel free to play with these parameters\n",
    "\n",
    "step_size = 0.05\n",
    "momentum = 0.9\n",
    "n_epochs = 1500\n",
    "n_hidden_1 = 32\n",
    "n_hidden_2 = 32\n",
    "d_out = 1\n",
    "\n",
    "neural_network = nn.Sequential(\n",
    "                            nn.Linear(d, n_hidden_1), \n",
    "                            nn.Tanh(),\n",
    "                            nn.Linear(n_hidden_1, n_hidden_2),\n",
    "                            nn.Tanh(),\n",
    "                            nn.Linear(n_hidden_2, d_out)\n",
    "                            )\n",
    "\n",
    "loss_func = nn.MSELoss()\n",
    "\n",
    "optim = torch.optim.SGD(neural_network.parameters(), lr=step_size, momentum=momentum)\n",
    "print('iter,\\tloss')\n",
    "for i in range(n_epochs):\n",
    "    y_hat = neural_network(X)\n",
    "    loss = loss_func(y_hat, y)\n",
    "    optim.zero_grad()\n",
    "    loss.backward()\n",
    "    optim.step()\n",
    "    \n",
    "    if i % (n_epochs // 10) == 0:\n",
    "        print('{},\\t{:.2f}'.format(i, loss.item()))\n",
    "\n"
   ]
  },
  {
   "cell_type": "code",
   "execution_count": 140,
   "metadata": {
    "id": "rGZL4mkbMTiS",
    "pycharm": {
     "is_executing": true
    }
   },
   "outputs": [
    {
     "data": {
      "image/png": "[encoded data removed]",
      "text/plain": [
       "<Figure size 432x288 with 1 Axes>"
      ]
     },
     "metadata": {
      "needs_background": "light"
     },
     "output_type": "display_data"
    }
   ],
   "source": [
    "X_grid = torch.from_numpy(np.linspace(0,1,50)).float().view(-1, d)\n",
    "y_hat = neural_network(X_grid)\n",
    "plt.scatter(X.numpy(), y.numpy())\n",
    "plt.plot(X_grid.detach().numpy(), y_hat.detach().numpy(), 'r')\n",
    "plt.title('plot of $f(x)$ and $\\hat{f}(x)$')\n",
    "plt.xlabel('$x$')\n",
    "plt.ylabel('$y$')\n",
    "plt.show()"
   ]
  },
  {
   "cell_type": "markdown",
   "metadata": {
    "id": "aSO1McZLMTiT"
   },
   "source": [
    "## CrossEntropyLoss\n",
    "So far, we have been considering regression tasks and have used the [MSELoss](https://pytorch.org/docs/stable/nn.html#torch.nn.MSELoss) module. For the homework, we will be performing a classification task and will use the cross entropy loss.\n",
    "\n",
    "PyTorch implements a version of the cross entropy loss in one module called [CrossEntropyLoss](https://pytorch.org/docs/stable/nn.html#torch.nn.CrossEntropyLoss). Its usage is slightly different than MSE, so we will break it down here. \n",
    "\n",
    "- input: The first parameter to CrossEntropyLoss is the output of our network. It expects a *real valued* tensor of dimensions $(N,C)$ where $N$ is the minibatch size and $C$ is the number of classes. In our case $N=3$ and $C=2$. The values along the second dimension correspond to raw unnormalized scores for each class. The CrossEntropyLoss module does the softmax calculation for us, so we do not need to apply our own softmax to the output of our neural network.\n",
    "- output: The second parameter to CrossEntropyLoss is the true label. It expects an *integer valued* tensor of dimension $(N)$. The integer at each element corresponds to the correct class. In our case, the \"correct\" class labels are class 0, class 1, and class 1.\n",
    "\n",
    "Try out the loss function on three toy predictions. The true class labels are $y=[1,1,0]$. The first two examples correspond to predictions that are \"correct\" in that they have higher raw scores for the correct class. The second example is \"more confident\" in the prediction, leading to a smaller loss. The last two examples are incorrect predictions with lower and higher confidence respectively."
   ]
  },
  {
   "cell_type": "code",
   "execution_count": 141,
   "metadata": {
    "id": "ALoGYsu1MTiU",
    "pycharm": {
     "is_executing": true
    }
   },
   "outputs": [
    {
     "name": "stdout",
     "output_type": "stream",
     "text": [
      "tensor(0.1269)\n"
     ]
    }
   ],
   "source": [
    "loss = nn.CrossEntropyLoss()\n",
    "\n",
    "input = torch.tensor([[-1., 1],[-1, 1],[1, -1]]) # raw scores correspond to the correct class\n",
    "# input = torch.tensor([[-3., 3],[-3, 3],[3, -3]]) # raw scores correspond to the correct class with higher confidence\n",
    "# input = torch.tensor([[1., -1],[1, -1],[-1, 1]]) # raw scores correspond to the incorrect class\n",
    "# input = torch.tensor([[3., -3],[3, -3],[-3, 3]]) # raw scores correspond to the incorrect class with incorrectly placed confidence\n",
    "\n",
    "target = torch.tensor([1, 1, 0])\n",
    "output = loss(input, target)\n",
    "print(output)\n"
   ]
  },
  {
   "cell_type": "markdown",
   "metadata": {
    "id": "OCwLf9C2MTiY"
   },
   "source": [
    "## Learning rate schedulers\n",
    "\n",
    "Often we do not want to use a fixed learning rate throughout all training. PyTorch offers learning rate schedulers to change the learning rate over time. Common strategies include multiplying the lr by a constant every epoch (e.g. 0.9) and halving the learning rate when the training loss flattens out.\n",
    "\n",
    "See the [learning rate scheduler docs](https://pytorch.org/docs/stable/optim.html#how-to-adjust-learning-rate) for usage and examples"
   ]
  },
  {
   "cell_type": "markdown",
   "metadata": {
    "id": "IrapEC2XMTiY"
   },
   "source": [
    "## Convolutions\n",
    "When working with images, we often want to use convolutions to extract features using convolutions. PyTorch implments this for us in the `torch.nn.Conv2d` module. It expects the input to have a specific dimension $(N, C_{in}, H_{in}, W_{in})$ where $N$ is batch size, $C_{in}$ is the number of channels the image has, and $H_{in}, W_{in}$ are the image height and width respectively.\n",
    "\n",
    "We can modify the convolution to have different properties with the parameters:\n",
    "- kernel_size\n",
    "- stride\n",
    "- padding\n",
    "\n",
    "They can change the output dimension so be careful.\n",
    "\n",
    "See the [`torch.nn.Conv2d` docs](https://pytorch.org/docs/stable/nn.html#torch.nn.Conv2d) for more information."
   ]
  },
  {
   "cell_type": "markdown",
   "metadata": {
    "id": "8gKSeJYuMTiZ"
   },
   "source": [
    "To illustrate what the `Conv2d` module is doing, let's set the conv weights manually to a Gaussian blur kernel.\n",
    "\n",
    "We can see that it applies the kernel to the image."
   ]
  },
  {
   "cell_type": "code",
   "execution_count": 142,
   "metadata": {
    "id": "QJjlv1lOMTiZ",
    "pycharm": {
     "is_executing": true
    }
   },
   "outputs": [],
   "source": [
    "# an entire mnist digit\n",
    "image = np.array([0., 0., 0., 0., 0.,0., 0., 0., 0., 0.,0., 0., 0., 0., 0.,0., 0., 0., 0., 0.,0., 0., 0., 0., 0.,0., 0., 0., 0., 0.,0., 0., 0., 0., 0.,0., 0., 0., 0., 0.,0., 0., 0., 0., 0.,0., 0., 0., 0., 0.,0., 0., 0., 0., 0.,0., 0., 0., 0., 0.,0., 0., 0., 0., 0.,0., 0., 0., 0., 0.,0., 0., 0., 0., 0.,0., 0., 0., 0., 0.,0., 0., 0., 0., 0.,0., 0., 0., 0., 0.,0., 0., 0., 0., 0.,0., 0., 0., 0., 0.,0., 0., 0., 0., 0.,0., 0., 0., 0., 0.,0., 0., 0., 0., 0.,0., 0., 0., 0., 0.,0., 0., 0., 0., 0.,0., 0., 0., 0., 0.,0., 0., 0., 0., 0.,0., 0., 0., 0., 0.,0., 0., 0., 0., 0.,0., 0., 0., 0., 0.,0., 0., 0., 0., 0.,0., 0., 0., 0., 0.,0., 0., 0., 0., 0.,0., 0., 0., 0., 0.,0., 0., 0., 0., 0.,0., 0., 0., 0., 0.,0., 0., 0., 0., 0.,0., 0., 0., 0., 0.,0., 0., 0., 0., 0.,0., 0., 0., 0., 0.,0., 0., 0., 0., 0.,0., 0., 0.3803922 , 0.37647063, 0.3019608 ,0.46274513, 0.2392157 , 0., 0., 0.,0., 0., 0., 0., 0.,0., 0., 0., 0., 0.,0., 0., 0.3529412 , 0.5411765 , 0.9215687 ,0.9215687 , 0.9215687 , 0.9215687 , 0.9215687 , 0.9215687 ,0.9843138 , 0.9843138 , 0.9725491 , 0.9960785 , 0.9607844 ,0.9215687 , 0.74509805, 0.08235294, 0., 0.,0., 0., 0., 0., 0.,0., 0., 0., 0., 0.54901963,0.9843138 , 0.9960785 , 0.9960785 , 0.9960785 , 0.9960785 ,0.9960785 , 0.9960785 , 0.9960785 , 0.9960785 , 0.9960785 ,0.9960785 , 0.9960785 , 0.9960785 , 0.9960785 , 0.9960785 ,0.7411765 , 0.09019608, 0., 0., 0.,0., 0., 0., 0., 0.,0., 0., 0.8862746 , 0.9960785 , 0.81568635,0.7803922 , 0.7803922 , 0.7803922 , 0.7803922 , 0.54509807,0.2392157 , 0.2392157 , 0.2392157 , 0.2392157 , 0.2392157 ,0.5019608 , 0.8705883 , 0.9960785 , 0.9960785 , 0.7411765 ,0.08235294, 0., 0., 0., 0.,0., 0., 0., 0., 0.,0.14901961, 0.32156864, 0.0509804 , 0., 0.,0., 0., 0., 0., 0.,0., 0., 0., 0., 0.13333334,0.8352942 , 0.9960785 , 0.9960785 , 0.45098042, 0.,0., 0., 0., 0., 0.,0., 0., 0., 0., 0.,0., 0., 0., 0., 0.,0., 0., 0., 0., 0.,0., 0., 0., 0.32941177, 0.9960785 ,0.9960785 , 0.9176471 , 0., 0., 0.,0., 0., 0., 0., 0.,0., 0., 0., 0., 0.,0., 0., 0., 0., 0.,0., 0., 0., 0., 0.,0., 0.32941177, 0.9960785 , 0.9960785 , 0.9176471 ,0., 0., 0., 0., 0.,0., 0., 0., 0., 0.,0., 0., 0., 0., 0.,0., 0., 0., 0., 0.,0., 0., 0., 0.4156863 , 0.6156863 ,0.9960785 , 0.9960785 , 0.95294124, 0.20000002, 0.,0., 0., 0., 0., 0.,0., 0., 0., 0., 0.,0., 0., 0., 0., 0.,0., 0.09803922, 0.45882356, 0.8941177 , 0.8941177 ,0.8941177 , 0.9921569 , 0.9960785 , 0.9960785 , 0.9960785 ,0.9960785 , 0.94117653, 0., 0., 0.,0., 0., 0., 0., 0.,0., 0., 0., 0., 0.,0., 0., 0.26666668, 0.4666667 , 0.86274517,0.9960785 , 0.9960785 , 0.9960785 , 0.9960785 , 0.9960785 ,0.9960785 , 0.9960785 , 0.9960785 , 0.9960785 , 0.5568628 ,0., 0., 0., 0., 0.,0., 0., 0., 0., 0.,0., 0., 0., 0.14509805, 0.73333335,0.9921569 , 0.9960785 , 0.9960785 , 0.9960785 , 0.8745099 ,0.8078432 , 0.8078432 , 0.29411766, 0.26666668, 0.8431373 ,0.9960785 , 0.9960785 , 0.45882356, 0., 0.,0., 0., 0., 0., 0.,0., 0., 0., 0., 0.,0.4431373 , 0.8588236 , 0.9960785 , 0.9490197 , 0.89019614,0.45098042, 0.34901962, 0.12156864, 0., 0.,0., 0., 0.7843138 , 0.9960785 , 0.9450981 ,0.16078432, 0., 0., 0., 0.,0., 0., 0., 0., 0.,0., 0., 0., 0.6627451 , 0.9960785 ,0.6901961 , 0.24313727, 0., 0., 0.,0., 0., 0., 0., 0.18823531,0.9058824 , 0.9960785 , 0.9176471 , 0., 0.,0., 0., 0., 0., 0.,0., 0., 0., 0., 0.,0., 0.07058824, 0.48627454, 0., 0.,0., 0., 0., 0., 0.,0., 0., 0.32941177, 0.9960785 , 0.9960785 ,0.6509804 , 0., 0., 0., 0.,0., 0., 0., 0., 0.,0., 0., 0., 0., 0.,0., 0., 0., 0., 0.,0., 0., 0., 0., 0.,0.54509807, 0.9960785 , 0.9333334 , 0.22352943, 0.,0., 0., 0., 0., 0.,0., 0., 0., 0., 0.,0., 0., 0., 0., 0.,0., 0., 0., 0., 0.,0., 0., 0.8235295 , 0.9803922 , 0.9960785 ,0.65882355, 0., 0., 0., 0.,0., 0., 0., 0., 0.,0., 0., 0., 0., 0.,0., 0., 0., 0., 0.,0., 0., 0., 0., 0.,0.9490197 , 0.9960785 , 0.93725497, 0.22352943, 0.,0., 0., 0., 0., 0.,0., 0., 0., 0., 0.,0., 0., 0., 0., 0.,0., 0., 0., 0., 0.,0., 0., 0.34901962, 0.9843138 , 0.9450981 ,0.3372549 , 0., 0., 0., 0.,0., 0., 0., 0., 0.,0., 0., 0., 0., 0.,0., 0., 0., 0., 0.,0., 0., 0., 0., 0.01960784,0.8078432 , 0.96470594, 0.6156863 , 0., 0.,0., 0., 0., 0., 0.,0., 0., 0., 0., 0.,0., 0., 0., 0., 0.,0., 0., 0., 0., 0.,0., 0., 0.01568628, 0.45882356, 0.27058825,0., 0., 0., 0., 0.,0., 0., 0., 0., 0.,0., 0., 0., 0., 0.,0., 0., 0., 0., 0.,0., 0., 0., 0., 0.,0., 0., 0., 0., 0.,0., 0., 0., 0., 0.,0., 0., 0., 0.], dtype=np.float32)\n",
    "image_torch = torch.from_numpy(image).view(1, 1, 28, 28)"
   ]
  },
  {
   "cell_type": "code",
   "execution_count": 143,
   "metadata": {
    "colab": {
     "base_uri": "https://localhost:8080/",
     "height": 545
    },
    "id": "28-oVco6MTib",
    "outputId": "19ef863a-74fc-4697-a2e1-2c525ea74a24",
    "pycharm": {
     "is_executing": true
    }
   },
   "outputs": [
    {
     "data": {
      "image/png": "[encoded data removed]",
      "text/plain": [
       "<Figure size 432x288 with 1 Axes>"
      ]
     },
     "metadata": {
      "needs_background": "light"
     },
     "output_type": "display_data"
    },
    {
     "data": {
      "image/png": "[encoded data removed]",
      "text/plain": [
       "<Figure size 432x288 with 1 Axes>"
      ]
     },
     "metadata": {
      "needs_background": "light"
     },
     "output_type": "display_data"
    }
   ],
   "source": [
    "# a gaussian blur kernel\n",
    "gaussian_kernel = torch.tensor([[1., 2, 1],[2, 4, 2],[1, 2, 1]]) / 16.0\n",
    "\n",
    "conv = nn.Conv2d(1, 1, 3)\n",
    "# manually set the conv weight\n",
    "conv.weight.data[:] = gaussian_kernel\n",
    "\n",
    "convolved = conv(image_torch)\n",
    "\n",
    "plt.title('original image')\n",
    "plt.imshow(image_torch.view(28,28).detach().numpy())\n",
    "plt.show()\n",
    "\n",
    "plt.title('blurred image')\n",
    "plt.imshow(convolved.view(26,26).detach().numpy())\n",
    "plt.show()"
   ]
  },
  {
   "cell_type": "markdown",
   "metadata": {
    "id": "zhf848TRMTid"
   },
   "source": [
    "As we can see, the image is blurred as expected. \n",
    "\n",
    "In practice, we learn many kernels at a time. In this example, we take in an RGB image (3 channels) and output a 16 channel image. After an activation function, that could be used as input to another `Conv2d` module."
   ]
  },
  {
   "cell_type": "code",
   "execution_count": 144,
   "metadata": {
    "id": "noG9FyJ0MTie",
    "pycharm": {
     "is_executing": true
    }
   },
   "outputs": [
    {
     "name": "stdout",
     "output_type": "stream",
     "text": [
      "im shape torch.Size([4, 3, 32, 32])\n",
      "convolved im shape torch.Size([4, 16, 30, 30])\n"
     ]
    }
   ],
   "source": [
    "im_channels = 3 # if we are working with RGB images, there are 3 input channels, with black and white, 1\n",
    "out_channels = 16 # this is a hyperparameter we can tune\n",
    "kernel_size = 3 # this is another hyperparameter we can tune\n",
    "batch_size = 4\n",
    "image_width = 32\n",
    "image_height = 32\n",
    "\n",
    "im = torch.randn(batch_size, im_channels, image_width, image_height)\n",
    "\n",
    "m = nn.Conv2d(im_channels, out_channels, kernel_size)\n",
    "convolved = m(im) # it is a module so we can call it\n",
    "\n",
    "print('im shape', im.shape)\n",
    "print('convolved im shape', convolved.shape)"
   ]
  },
  {
   "cell_type": "markdown",
   "metadata": {
    "id": "NwsmNTYLMTig"
   },
   "source": [
    "## Useful links:\n",
    "- [60 minute PyTorch Tutorial](https://pytorch.org/tutorials/beginner/deep_learning_60min_blitz.html)\n",
    "- [PyTorch Docs](https://pytorch.org/docs/stable/index.html)\n",
    "- [Lecture notes on Auto-Diff](https://courses.cs.washington.edu/courses/cse446/19wi/notes/auto-diff.pdf)\n",
    "\n"
   ]
  },
  {
   "cell_type": "markdown",
   "metadata": {
    "id": "0d77LgKaMTih"
   },
   "source": [
    "\n",
    "Custom Datasets, DataLoaders\n",
    "===================================================\n",
    "This is modified from pytorch official tutorial.\n",
    "**Author**: `Sasank Chilamkurthy <https://chsasank.github.io>`_\n",
    "\n",
    "A lot of effort in solving any machine learning problem goes in to\n",
    "preparing the data. PyTorch provides many tools to make data loading\n",
    "easy and hopefully, to make your code more readable. In this tutorial,\n",
    "we will see how to load and preprocess/augment data from a non trivial\n",
    "dataset.\n",
    "\n"
   ]
  },
  {
   "cell_type": "markdown",
   "metadata": {
    "id": "OyN-mHRoMTii"
   },
   "source": [
    "Dataset class\n",
    "-------------\n",
    "\n",
    "``torch.utils.data.Dataset`` is an abstract class representing a\n",
    "dataset.\n",
    "Your custom dataset should inherit ``Dataset`` and override the following\n",
    "methods:\n",
    "\n",
    "-  ``__len__`` so that ``len(dataset)`` returns the size of the dataset.\n",
    "-  ``__getitem__`` to support the indexing such that ``dataset[i]`` can\n",
    "   be used to get $i$\\ th sample\n",
    "\n",
    "Let's create a dataset class for our face landmarks dataset. We will\n",
    "read the csv in ``__init__`` but leave the reading of images to\n",
    "``__getitem__``. This is memory efficient because all the images are not\n",
    "stored in the memory at once but read as required.\n",
    "\n",
    "Sample of our dataset will be a dict\n",
    "``{'image': image, 'landmarks': landmarks}``. Our dataset will take an\n",
    "optional argument ``transform`` so that any required processing can be\n",
    "applied on the sample. We will see the usefulness of ``transform`` in the\n",
    "next section."
   ]
  },
  {
   "cell_type": "code",
   "execution_count": 145,
   "metadata": {
    "id": "I302HaeiMTij",
    "pycharm": {
     "is_executing": true
    }
   },
   "outputs": [],
   "source": [
    "from torch.utils.data import Dataset, DataLoader\n",
    "\n",
    "\n",
    "class FakeDataset(Dataset):\n",
    "\n",
    "    def __init__(self, x, y):\n",
    "        self.x = x\n",
    "        self.y = y\n",
    "\n",
    "    # 重写__len__方法\n",
    "    def __len__(self):\n",
    "        return len(self.x)\n",
    "\n",
    "    # 重写__getitem__方法\n",
    "    def __getitem__(self, idx):\n",
    "        return self.x[idx], self.y[idx]"
   ]
  },
  {
   "cell_type": "markdown",
   "metadata": {
    "id": "vOgpiQcIMTik"
   },
   "source": [
    "However, we are losing a lot of features by using a simple ``for`` loop to\n",
    "iterate over the data. In particular, we are missing out on:\n",
    "\n",
    "-  Batching the data\n",
    "-  Shuffling the data\n",
    "-  Load the data in parallel using ``multiprocessing`` workers.\n",
    "\n",
    "``torch.utils.data.DataLoader`` is an iterator which provides all these\n",
    "features. Parameters used below should be clear. One parameter of\n",
    "interest is ``collate_fn``. You can specify how exactly the samples need\n",
    "to be batched using ``collate_fn``. However, default collate should work\n",
    "fine for most use cases."
   ]
  },
  {
   "cell_type": "code",
   "execution_count": 150,
   "metadata": {
    "colab": {
     "base_uri": "https://localhost:8080/",
     "height": 1000
    },
    "id": "TMHL8d06MTik",
    "outputId": "a5fc7f8a-0364-43fa-bf4c-bf63b9c71881",
    "pycharm": {
     "is_executing": true
    }
   },
   "outputs": [
    {
     "name": "stdout",
     "output_type": "stream",
     "text": [
      "0 [tensor([[0.1607, 0.7505, 0.2195, 0.4503, 0.2654, 0.9002, 0.1130, 0.6207, 0.9174,\n",
      "         0.7816],\n",
      "        [0.2179, 0.2188, 0.0761, 0.7797, 0.6282, 0.8648, 0.8658, 0.8988, 0.1023,\n",
      "         0.9849],\n",
      "        [0.0537, 0.5879, 0.3649, 0.6524, 0.8759, 0.7746, 0.1006, 0.7056, 0.8833,\n",
      "         0.2490],\n",
      "        [0.9677, 0.6395, 0.3386, 0.8322, 0.5141, 0.8169, 0.7245, 0.9103, 0.3337,\n",
      "         0.7093]], dtype=torch.float64), tensor([0.9141, 0.6989, 0.8920, 0.8361], dtype=torch.float64)]\n",
      "1 [tensor([[0.1199, 0.3171, 0.9741, 0.4024, 0.7426, 0.7728, 0.3034, 0.5694, 0.2532,\n",
      "         0.0953],\n",
      "        [0.2178, 0.6931, 0.3243, 0.1248, 0.8160, 0.0812, 0.9456, 0.4411, 0.6673,\n",
      "         0.8855],\n",
      "        [0.0222, 0.7780, 0.8322, 0.3779, 0.7760, 0.8579, 0.8292, 0.6530, 0.7804,\n",
      "         0.3632],\n",
      "        [0.4941, 0.8132, 0.9649, 0.2643, 0.9855, 0.4095, 0.3792, 0.7913, 0.0572,\n",
      "         0.1508]], dtype=torch.float64), tensor([0.6302, 0.7877, 0.8783, 0.3975], dtype=torch.float64)]\n",
      "2 [tensor([[0.3284, 0.1696, 0.7844, 0.2459, 0.8100, 0.2989, 0.7312, 0.8574, 0.5384,\n",
      "         0.5413],\n",
      "        [0.8245, 0.9724, 0.4166, 0.9138, 0.7882, 0.4478, 0.1009, 0.7542, 0.8365,\n",
      "         0.5340],\n",
      "        [0.4703, 0.8940, 0.0488, 0.6189, 0.2165, 0.3690, 0.1559, 0.0179, 0.4059,\n",
      "         0.8598],\n",
      "        [0.2134, 0.0719, 0.7553, 0.8922, 0.8821, 0.0230, 0.8871, 0.6645, 0.5685,\n",
      "         0.8676]], dtype=torch.float64), tensor([0.6684, 0.3896, 0.1687, 0.2481], dtype=torch.float64)]\n",
      "3 [tensor([[0.5278, 0.8160, 0.1592, 0.3736, 0.5514, 0.3135, 0.5063, 0.4535, 0.3171,\n",
      "         0.7263],\n",
      "        [0.3766, 0.3765, 0.9704, 0.2857, 0.9978, 0.1401, 0.0230, 0.3522, 0.2517,\n",
      "         0.1157],\n",
      "        [0.7834, 0.4351, 0.8018, 0.5510, 0.5148, 0.8170, 0.9999, 0.8809, 0.1459,\n",
      "         0.3732],\n",
      "        [0.4141, 0.3726, 0.1592, 0.7814, 0.1712, 0.4631, 0.2933, 0.9528, 0.5704,\n",
      "         0.0166]], dtype=torch.float64), tensor([0.3467, 0.3505, 0.0707, 0.9622], dtype=torch.float64)]\n",
      "4 [tensor([[0.8323, 0.8700, 0.5454, 0.8450, 0.5149, 0.0419, 0.1791, 0.7031, 0.6744,\n",
      "         0.3220],\n",
      "        [0.6361, 0.4606, 0.0143, 0.6765, 0.6592, 0.9844, 0.3884, 0.7085, 0.0863,\n",
      "         0.7014],\n",
      "        [0.1860, 0.4273, 0.5358, 0.3842, 0.6310, 0.4092, 0.6349, 0.4367, 0.8672,\n",
      "         0.8369],\n",
      "        [0.6481, 0.4837, 0.6238, 0.0587, 0.0331, 0.3841, 0.9800, 0.2100, 0.3863,\n",
      "         0.7235]], dtype=torch.float64), tensor([0.9322, 0.1040, 0.6606, 0.5265], dtype=torch.float64)]\n",
      "5 [tensor([[0.2281, 0.3889, 0.7283, 0.8118, 0.1603, 0.7216, 0.4033, 0.5441, 0.0599,\n",
      "         0.4258],\n",
      "        [0.9707, 0.0188, 0.5668, 0.1875, 0.6269, 0.7935, 0.7540, 0.3777, 0.2471,\n",
      "         0.1371],\n",
      "        [0.4584, 0.6084, 0.0251, 0.4538, 0.3208, 0.0994, 0.4381, 0.3062, 0.8947,\n",
      "         0.2294],\n",
      "        [0.3499, 0.1111, 0.6992, 0.6656, 0.7807, 0.9463, 0.1385, 0.4635, 0.3963,\n",
      "         0.2516]], dtype=torch.float64), tensor([0.8010, 0.1657, 0.6911, 0.7250], dtype=torch.float64)]\n",
      "6 [tensor([[0.7063, 0.5142, 0.8462, 0.2278, 0.5691, 0.3350, 0.0752, 0.6063, 0.6071,\n",
      "         0.5078],\n",
      "        [0.3365, 0.2944, 0.9589, 0.4287, 0.7387, 0.8615, 0.7769, 0.2260, 0.6835,\n",
      "         0.5841],\n",
      "        [0.9180, 0.2486, 0.2387, 0.1588, 0.0625, 0.4688, 0.3436, 0.4192, 0.3113,\n",
      "         0.4520],\n",
      "        [0.0486, 0.3099, 0.2459, 0.3697, 0.4683, 0.5009, 0.8411, 0.7312, 0.7374,\n",
      "         0.7078]], dtype=torch.float64), tensor([0.9611, 0.5821, 0.4022, 0.0606], dtype=torch.float64)]\n",
      "7 [tensor([[0.6093, 0.6919, 0.5191, 0.3178, 0.7581, 0.9166, 0.7217, 0.6600, 0.7176,\n",
      "         0.7177],\n",
      "        [0.3043, 0.3251, 0.9747, 0.2892, 0.4350, 0.6477, 0.5327, 0.6246, 0.8091,\n",
      "         0.8018],\n",
      "        [0.1383, 0.7502, 0.2321, 0.8971, 0.2679, 0.0072, 0.6550, 0.4960, 0.0865,\n",
      "         0.5020],\n",
      "        [0.2928, 0.1459, 0.8182, 0.8807, 0.4456, 0.8588, 0.1370, 0.6371, 0.0764,\n",
      "         0.2433]], dtype=torch.float64), tensor([0.7984, 0.8924, 0.0693, 0.7028], dtype=torch.float64)]\n",
      "8 [tensor([[0.2565, 0.6425, 0.8749, 0.9976, 0.8385, 0.5114, 0.2276, 0.6648, 0.9016,\n",
      "         0.6078],\n",
      "        [0.5832, 0.1622, 0.5022, 0.7721, 0.5756, 0.5049, 0.9017, 0.8752, 0.3017,\n",
      "         0.0071],\n",
      "        [0.4811, 0.8527, 0.0389, 0.4001, 0.5017, 0.7988, 0.9515, 0.2554, 0.4967,\n",
      "         0.6661],\n",
      "        [0.3562, 0.9176, 0.0538, 0.4041, 0.2108, 0.7166, 0.4684, 0.6445, 0.6140,\n",
      "         0.0448]], dtype=torch.float64), tensor([0.3772, 0.6017, 0.0142, 0.2131], dtype=torch.float64)]\n",
      "9 [tensor([[0.5302, 0.4012, 0.9036, 0.7497, 0.0773, 0.5403, 0.1657, 0.5247, 0.6464,\n",
      "         0.1044],\n",
      "        [0.4918, 0.2070, 0.6867, 0.7952, 0.2733, 0.3927, 0.3428, 0.8650, 0.6287,\n",
      "         0.1225],\n",
      "        [0.5394, 0.3480, 0.7672, 0.4830, 0.2430, 0.6830, 0.1650, 0.7154, 0.2040,\n",
      "         0.8397],\n",
      "        [0.4781, 0.4152, 0.9875, 0.6821, 0.1392, 0.8361, 0.7345, 0.7701, 0.2741,\n",
      "         0.6083]], dtype=torch.float64), tensor([0.9963, 0.2781, 0.0107, 0.4270], dtype=torch.float64)]\n",
      "10 [tensor([[0.7990, 0.9585, 0.7391, 0.1463, 0.7224, 0.7470, 0.1109, 0.3679, 0.4804,\n",
      "         0.9057],\n",
      "        [0.6183, 0.4390, 0.2234, 0.2672, 0.3253, 0.0996, 0.3329, 0.3624, 0.0687,\n",
      "         0.7545],\n",
      "        [0.1569, 0.6779, 0.1276, 0.9790, 0.5179, 0.8753, 0.2036, 0.7555, 0.0087,\n",
      "         0.8718],\n",
      "        [0.3338, 0.5260, 0.6664, 0.5133, 0.6059, 0.1747, 0.4809, 0.7828, 0.7070,\n",
      "         0.1904]], dtype=torch.float64), tensor([0.2378, 0.9962, 0.1700, 0.0540], dtype=torch.float64)]\n",
      "11 [tensor([[0.2154, 0.9916, 0.6741, 0.1525, 0.6672, 0.4582, 0.9611, 0.7627, 0.7507,\n",
      "         0.6440],\n",
      "        [0.8961, 0.6523, 0.2506, 0.9272, 0.3538, 0.9169, 0.5892, 0.2640, 0.7611,\n",
      "         0.3877],\n",
      "        [0.0377, 0.1846, 0.2351, 0.6739, 0.1233, 0.2511, 0.0408, 0.3672, 0.4464,\n",
      "         0.8181],\n",
      "        [0.7644, 0.7172, 0.4273, 0.4320, 0.5338, 0.6517, 0.4314, 0.8056, 0.9279,\n",
      "         0.0460]], dtype=torch.float64), tensor([0.6375, 0.8398, 0.9458, 0.5671], dtype=torch.float64)]\n",
      "12 [tensor([[0.8237, 0.7196, 0.7745, 0.6362, 0.1759, 0.1344, 0.5206, 0.1612, 0.2106,\n",
      "         0.6986],\n",
      "        [0.8054, 0.2658, 0.8679, 0.9119, 0.5494, 0.6236, 0.0299, 0.5348, 0.9124,\n",
      "         0.1893],\n",
      "        [0.6016, 0.4448, 0.2847, 0.7547, 0.3352, 0.0282, 0.0265, 0.7694, 0.2919,\n",
      "         0.0418],\n",
      "        [0.0032, 0.8392, 0.2040, 0.3064, 0.5418, 0.4013, 0.9537, 0.6161, 0.7079,\n",
      "         0.7098]], dtype=torch.float64), tensor([0.3227, 0.6959, 0.9485, 0.8609], dtype=torch.float64)]\n",
      "13 [tensor([[0.7413, 0.2733, 0.5827, 0.2214, 0.4748, 0.4406, 0.3101, 0.5876, 0.0129,\n",
      "         0.6003],\n",
      "        [0.3559, 0.2520, 0.8395, 0.2757, 0.4455, 0.3827, 0.0265, 0.3593, 0.8669,\n",
      "         0.7945],\n",
      "        [0.7426, 0.3770, 0.1523, 0.9865, 0.2812, 0.8682, 0.9326, 0.5801, 0.7706,\n",
      "         0.5985],\n",
      "        [0.5693, 0.5644, 0.5866, 0.2517, 0.5743, 0.6929, 0.5672, 0.0552, 0.4038,\n",
      "         0.5957]], dtype=torch.float64), tensor([0.4842, 0.2308, 0.5679, 0.7777], dtype=torch.float64)]\n",
      "14 [tensor([[0.8114, 0.3428, 0.0302, 0.8012, 0.5500, 0.9757, 0.9377, 0.1723, 0.9910,\n",
      "         0.8823],\n",
      "        [0.4941, 0.6465, 0.5658, 0.5901, 0.5958, 0.4338, 0.3983, 0.5382, 0.4218,\n",
      "         0.7675],\n",
      "        [0.6247, 0.1206, 0.4379, 0.9859, 0.2764, 0.4106, 0.9155, 0.7328, 0.4502,\n",
      "         0.5232],\n",
      "        [0.0701, 0.5967, 0.9111, 0.6512, 0.4111, 0.4676, 0.4478, 0.9842, 0.8404,\n",
      "         0.4056]], dtype=torch.float64), tensor([0.1123, 0.0496, 0.7688, 0.5902], dtype=torch.float64)]\n",
      "15 [tensor([[0.8191, 0.8489, 0.1772, 0.9085, 0.0058, 0.8331, 0.7013, 0.2994, 0.7229,\n",
      "         0.8936],\n",
      "        [0.3540, 0.0011, 0.8606, 0.7875, 0.5722, 0.5466, 0.2267, 0.8504, 0.3918,\n",
      "         0.4944],\n",
      "        [0.4571, 0.8427, 0.5835, 0.3360, 0.3925, 0.7490, 0.6768, 0.8759, 0.8813,\n",
      "         0.5227],\n",
      "        [0.5835, 0.8095, 0.3585, 0.1956, 0.9125, 0.4859, 0.9486, 0.4849, 0.0836,\n",
      "         0.4166]], dtype=torch.float64), tensor([0.1087, 0.5605, 0.8901, 0.9385], dtype=torch.float64)]\n",
      "16 [tensor([[0.4138, 0.6663, 0.6801, 0.0039, 0.5793, 0.5202, 0.2730, 0.5786, 0.4224,\n",
      "         0.6450],\n",
      "        [0.4951, 0.3761, 0.8858, 0.7965, 0.0790, 0.4192, 0.6889, 0.2788, 0.2703,\n",
      "         0.7588],\n",
      "        [0.7620, 0.1762, 0.7459, 0.0526, 0.0959, 0.1263, 0.2974, 0.5547, 0.7655,\n",
      "         0.4268],\n",
      "        [0.3044, 0.0510, 0.7264, 0.7543, 0.8874, 0.8899, 0.3413, 0.2838, 0.6987,\n",
      "         0.9671]], dtype=torch.float64), tensor([0.4509, 0.8316, 0.8821, 0.8890], dtype=torch.float64)]\n",
      "17 [tensor([[0.7867, 0.0368, 0.9206, 0.9337, 0.8809, 0.9017, 0.9559, 0.0748, 0.7541,\n",
      "         0.3554],\n",
      "        [0.1971, 0.8266, 0.2606, 0.8751, 0.9284, 0.0025, 0.4271, 0.0287, 0.3434,\n",
      "         0.8008],\n",
      "        [0.0369, 0.1112, 0.5341, 0.9180, 0.1229, 0.2131, 0.9884, 0.2413, 0.1455,\n",
      "         0.3931],\n",
      "        [0.4315, 0.7719, 0.1310, 0.3391, 0.4141, 0.8267, 0.8796, 0.8411, 0.6632,\n",
      "         0.1833]], dtype=torch.float64), tensor([0.3912, 0.1560, 0.5540, 0.7325], dtype=torch.float64)]\n",
      "18 [tensor([[0.3578, 0.9249, 0.0381, 0.5131, 0.1206, 0.7129, 0.4546, 0.8716, 0.5205,\n",
      "         0.9073],\n",
      "        [0.4503, 0.8991, 0.3868, 0.5059, 0.8107, 0.4437, 0.3186, 0.8296, 0.3045,\n",
      "         0.9638],\n",
      "        [0.1161, 0.7233, 0.1258, 0.3029, 0.2641, 0.0181, 0.3414, 0.9805, 0.5464,\n",
      "         0.3527],\n",
      "        [0.7571, 0.1026, 0.9518, 0.9861, 0.7659, 0.3394, 0.8519, 0.7071, 0.6117,\n",
      "         0.0923]], dtype=torch.float64), tensor([0.6153, 0.4832, 0.2787, 0.0513], dtype=torch.float64)]\n",
      "19 [tensor([[0.2557, 0.3764, 0.4861, 0.9708, 0.7652, 0.3815, 0.2673, 0.9198, 0.3272,\n",
      "         0.8305],\n",
      "        [0.3614, 0.9278, 0.9113, 0.6287, 0.8299, 0.0714, 0.9882, 0.3744, 0.3404,\n",
      "         0.4365],\n",
      "        [0.7345, 0.8872, 0.8974, 0.3731, 0.7883, 0.2165, 0.8474, 0.5976, 0.7340,\n",
      "         0.9752],\n",
      "        [0.5436, 0.3181, 0.0323, 0.1262, 0.8260, 0.6836, 0.0255, 0.3964, 0.3774,\n",
      "         0.1964]], dtype=torch.float64), tensor([0.0659, 0.0662, 0.8677, 0.4678], dtype=torch.float64)]\n",
      "20 [tensor([[0.4932, 0.6193, 0.7225, 0.3658, 0.3154, 0.8009, 0.1131, 0.5378, 0.5661,\n",
      "         0.9024],\n",
      "        [0.8998, 0.3457, 0.3010, 0.8696, 0.0501, 0.1486, 0.5430, 0.9186, 0.2304,\n",
      "         0.7917],\n",
      "        [0.4552, 0.7650, 0.1902, 0.7383, 0.1934, 0.0834, 0.5219, 0.2521, 0.6284,\n",
      "         0.5261],\n",
      "        [0.5461, 0.4479, 0.5276, 0.9328, 0.6250, 0.1592, 0.5453, 0.9185, 0.9443,\n",
      "         0.5115]], dtype=torch.float64), tensor([0.4561, 0.6607, 0.9525, 0.9596], dtype=torch.float64)]\n",
      "21 [tensor([[0.5327, 0.2521, 0.7249, 0.0415, 0.7415, 0.8456, 0.6358, 0.0870, 0.9702,\n",
      "         0.4829],\n",
      "        [0.1742, 0.9428, 0.3511, 0.0318, 0.8320, 0.4126, 0.5260, 0.5314, 0.4775,\n",
      "         0.3001],\n",
      "        [0.0826, 0.0401, 0.3765, 0.5377, 0.2901, 0.6345, 0.7636, 0.4199, 0.2165,\n",
      "         0.7943],\n",
      "        [0.0811, 0.5981, 0.7371, 0.7393, 0.7330, 0.2002, 0.1863, 0.6912, 0.8983,\n",
      "         0.2225]], dtype=torch.float64), tensor([0.3605, 0.7152, 0.6061, 0.1581], dtype=torch.float64)]\n",
      "22 [tensor([[0.5528, 0.3880, 0.6852, 0.8118, 0.1572, 0.4051, 0.5523, 0.3418, 0.3813,\n",
      "         0.0562],\n",
      "        [0.7362, 0.6828, 0.9567, 0.9382, 0.4811, 0.3479, 0.9309, 0.3533, 0.2270,\n",
      "         0.6336],\n",
      "        [0.3886, 0.8890, 0.2710, 0.2204, 0.5277, 0.8907, 0.4083, 0.2466, 0.8493,\n",
      "         0.2587],\n",
      "        [0.0864, 0.6843, 0.4691, 0.1756, 0.3991, 0.9136, 0.9102, 0.5311, 0.0342,\n",
      "         0.2853]], dtype=torch.float64), tensor([0.1379, 0.2997, 0.2773, 0.6930], dtype=torch.float64)]\n",
      "23 [tensor([[0.6782, 0.0100, 0.5527, 0.4749, 0.8026, 0.6173, 0.2771, 0.1990, 0.2314,\n",
      "         0.2683],\n",
      "        [0.5373, 0.7023, 0.6300, 0.4541, 0.7928, 0.2727, 0.7587, 0.7080, 0.3412,\n",
      "         0.0397],\n",
      "        [0.8986, 0.2561, 0.6633, 0.0073, 0.8985, 0.0367, 0.7790, 0.6322, 0.6048,\n",
      "         0.7243],\n",
      "        [0.4920, 0.0658, 0.8194, 0.5104, 0.8347, 0.0747, 0.8825, 0.9006, 0.8617,\n",
      "         0.9923]], dtype=torch.float64), tensor([0.1097, 0.5084, 0.7629, 0.5202], dtype=torch.float64)]\n",
      "24 [tensor([[0.8207, 0.7724, 0.6158, 0.2717, 0.6622, 0.3365, 0.6771, 0.0998, 0.9377,\n",
      "         0.2384],\n",
      "        [0.9757, 0.6648, 0.7296, 0.4929, 0.4648, 0.0073, 0.5707, 0.2130, 0.8451,\n",
      "         0.6268],\n",
      "        [0.0757, 0.3211, 0.3277, 0.6567, 0.3957, 0.8897, 0.7743, 0.9833, 0.3481,\n",
      "         0.3315],\n",
      "        [0.3637, 0.4021, 0.4722, 0.2514, 0.8839, 0.4806, 0.9773, 0.9450, 0.6619,\n",
      "         0.9591]], dtype=torch.float64), tensor([0.1714, 0.2919, 0.6697, 0.7184], dtype=torch.float64)]\n"
     ]
    }
   ],
   "source": [
    "x = np.random.rand(100, 10)\n",
    "y = np.random.rand(100)\n",
    "\n",
    "dataset = FakeDataset(x, y)\n",
    "\n",
    "# batch_size=4  100个数据按4个一捆，分成25捆\n",
    "dataloader = DataLoader(dataset, batch_size=4,\n",
    "                        shuffle=True, num_workers=0)\n",
    "\n",
    "for i_batch, sample_batched in enumerate(dataloader):\n",
    "    print(i_batch, sample_batched)"
   ]
  },
  {
   "cell_type": "markdown",
   "metadata": {
    "id": "-m-ml0NoMTim"
   },
   "source": [
    "Mixed Presision Training\n",
    "===================================================\n",
    "**Author**: `Chi-Liang Liu <https://liangtaiwan.github.io>`\n",
    "**Ref**: https://github.com/NVIDIA/apex\n",
    "Using mixed precision to train your networks can be:\n",
    "- 2-4x faster\n",
    "- memory-efficient\n",
    "in only 3 lines of Python."
   ]
  },
  {
   "cell_type": "markdown",
   "metadata": {
    "id": "a94qxAC_MTin"
   },
   "source": [
    "# Apex \n",
    "\n",
    "NVIDIA-maintained utilities to streamline mixed precision and distributed training in Pytorch. Some of the code here will be included in upstream Pytorch eventually. The intention of Apex is to make up-to-date utilities available to users as quickly as possible."
   ]
  },
  {
   "cell_type": "markdown",
   "metadata": {
    "id": "fw6ociH0MTin"
   },
   "source": [
    "## apex.amp\n",
    "\n",
    "Amp allows users to easily experiment with different pure and mixed precision modes.\n",
    "Commonly-used default modes are chosen by\n",
    "selecting an \"optimization level\" or ``opt_level``; each ``opt_level`` establishes a set of\n",
    "properties that govern Amp's implementation of pure or mixed precision training.\n",
    "Finer-grained control of how a given ``opt_level`` behaves can be achieved by passing values for\n",
    "particular properties directly to ``amp.initialize``.  These manually specified values\n",
    "override the defaults established by the ``opt_level``."
   ]
  },
  {
   "cell_type": "code",
   "execution_count": 151,
   "metadata": {
    "id": "IxP-tvHcMTio",
    "pycharm": {
     "is_executing": true
    }
   },
   "outputs": [
    {
     "ename": "ModuleNotFoundError",
     "evalue": "No module named 'apex'",
     "output_type": "error",
     "traceback": [
      "\u001B[1;31m---------------------------------------------------------------------------\u001B[0m",
      "\u001B[1;31mModuleNotFoundError\u001B[0m                       Traceback (most recent call last)",
      "\u001B[1;32m<ipython-input-151-f5e8b68ab591>\u001B[0m in \u001B[0;36m<module>\u001B[1;34m\u001B[0m\n\u001B[1;32m----> 1\u001B[1;33m \u001B[1;32mfrom\u001B[0m \u001B[0mapex\u001B[0m \u001B[1;32mimport\u001B[0m \u001B[0mamp\u001B[0m\u001B[1;33m\u001B[0m\u001B[1;33m\u001B[0m\u001B[0m\n\u001B[0m\u001B[0;32m      2\u001B[0m \u001B[1;33m\u001B[0m\u001B[0m\n\u001B[0;32m      3\u001B[0m \u001B[1;31m# Declare model and optimizer as usual, with default (FP32) precision\u001B[0m\u001B[1;33m\u001B[0m\u001B[1;33m\u001B[0m\u001B[1;33m\u001B[0m\u001B[0m\n\u001B[0;32m      4\u001B[0m \u001B[0mmodel\u001B[0m \u001B[1;33m=\u001B[0m \u001B[0mtorch\u001B[0m\u001B[1;33m.\u001B[0m\u001B[0mnn\u001B[0m\u001B[1;33m.\u001B[0m\u001B[0mLinear\u001B[0m\u001B[1;33m(\u001B[0m\u001B[1;36m10\u001B[0m\u001B[1;33m,\u001B[0m \u001B[1;36m100\u001B[0m\u001B[1;33m)\u001B[0m\u001B[1;33m.\u001B[0m\u001B[0mcuda\u001B[0m\u001B[1;33m(\u001B[0m\u001B[1;33m)\u001B[0m\u001B[1;33m\u001B[0m\u001B[1;33m\u001B[0m\u001B[0m\n\u001B[0;32m      5\u001B[0m \u001B[0moptimizer\u001B[0m \u001B[1;33m=\u001B[0m \u001B[0mtorch\u001B[0m\u001B[1;33m.\u001B[0m\u001B[0moptim\u001B[0m\u001B[1;33m.\u001B[0m\u001B[0mSGD\u001B[0m\u001B[1;33m(\u001B[0m\u001B[0mmodel\u001B[0m\u001B[1;33m.\u001B[0m\u001B[0mparameters\u001B[0m\u001B[1;33m(\u001B[0m\u001B[1;33m)\u001B[0m\u001B[1;33m,\u001B[0m \u001B[0mlr\u001B[0m\u001B[1;33m=\u001B[0m\u001B[1;36m1e-3\u001B[0m\u001B[1;33m)\u001B[0m\u001B[1;33m\u001B[0m\u001B[1;33m\u001B[0m\u001B[0m\n",
      "\u001B[1;31mModuleNotFoundError\u001B[0m: No module named 'apex'"
     ]
    }
   ],
   "source": [
    "from apex import amp\n",
    "\n",
    "# Declare model and optimizer as usual, with default (FP32) precision\n",
    "model = torch.nn.Linear(10, 100).cuda()\n",
    "optimizer = torch.optim.SGD(model.parameters(), lr=1e-3)\n",
    "\n",
    "# Allow Amp to perform casts as required by the opt_level\n",
    "model, optimizer = amp.initialize(model, optimizer, opt_level=\"O1\")\n",
    "...\n",
    "# loss.backward() becomes:\n",
    "with amp.scale_loss(loss, optimizer) as scaled_loss:\n",
    "    scaled_loss.backward()\n",
    "..."
   ]
  }
 ],
 "metadata": {
  "accelerator": "GPU",
  "celltoolbar": "Slideshow",
  "colab": {
   "collapsed_sections": [
    "zqyBFdobMTha",
    "jlzoXa6UMThg",
    "l08nQdE9MThp",
    "Tmg4eFQAMThr",
    "jifMOIcNMTh5",
    "aSO1McZLMTiT",
    "OCwLf9C2MTiY",
    "IrapEC2XMTiY",
    "NwsmNTYLMTig",
    "OyN-mHRoMTii"
   ],
   "name": "PyTorch_Introduction.ipynb",
   "provenance": []
  },
  "kernelspec": {
   "display_name": "PyCharm (mse-ecnu-py)",
   "language": "python",
   "name": "pycharm-e6849b34"
  },
  "language_info": {
   "codemirror_mode": {
    "name": "ipython",
    "version": 3
   },
   "file_extension": ".py",
   "mimetype": "text/x-python",
   "name": "python",
   "nbconvert_exporter": "python",
   "pygments_lexer": "ipython3",
   "version": "3.8.5"
  }
 },
 "nbformat": 4,
 "nbformat_minor": 1
}